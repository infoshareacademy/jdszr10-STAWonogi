{
 "cells": [
  {
   "cell_type": "code",
   "execution_count": 81,
   "metadata": {},
   "outputs": [],
   "source": [
    "import matplotlib.pyplot as plt\n",
    "from sklearn.metrics import classification_report, confusion_matrix\n",
    "import cv2\n",
    "from tensorflow.keras import layers\n",
    "import os\n",
    "import PIL\n",
    "from PIL import Image\n",
    "\n",
    "import numpy as np\n",
    "import tensorflow as tf\n",
    "from tensorflow import keras\n",
    "from sklearn.preprocessing import OneHotEncoder\n",
    "from tensorflow.keras.models import Sequential\n",
    "from tensorflow.keras.layers import Conv2D, MaxPooling2D, Flatten, Dense, Dropout, Rescaling\n",
    "from sklearn.model_selection import train_test_split\n",
    "from sklearn.preprocessing import LabelEncoder\n",
    "from keras.utils import to_categorical\n",
    "from tensorflow.keras.utils import to_categorical\n",
    "from tensorflow.keras.preprocessing.image import ImageDataGenerator \n",
    "\n",
    "\n"
   ]
  },
  {
   "cell_type": "code",
   "execution_count": 47,
   "metadata": {},
   "outputs": [
    {
     "data": {
      "text/plain": [
       "numpy.ndarray"
      ]
     },
     "execution_count": 47,
     "metadata": {},
     "output_type": "execute_result"
    }
   ],
   "source": [
    "img = cv2.imread(\"PetImages/Dog/1616.jpg\")\n",
    "type(img)"
   ]
  },
  {
   "cell_type": "code",
   "execution_count": 48,
   "metadata": {},
   "outputs": [],
   "source": [
    "# path_cat = 'PetImages/Cat/'\n",
    "current_dir = os.getcwd()\n",
    "path_cat = 'PetImages/Cat/'\n",
    "path_dog = 'PetImages/Dog/'\n",
    "path_data = 'PetImages/'\n",
    "path_graycat = 'PetImages/Cat/Cat/'\n",
    "path_graydog = 'PetImages/Dog/Dog/'\n",
    "\n",
    "error_dogs = ['10158.jpg','10747.jpg','11410.jpg','11702.jpg','11853.jpg','1866.jpg','2688.jpg','3136.jpg','3588.jpg','5604.jpg','6059.jpg','6718.jpg','8133.jpg','7459.jpg','8730.jpg','10401.jpg','10797.jpg','11675.jpg','11849.jpg','1308.jpg','2384.jpg','2877.jpg','3288.jpg','4367.jpg','6238.jpg','7112.jpg','7369.jpg','7969.jpg','9188.jpg','7133.jpg','Thumbs.db']\n",
    "error_cats = ['10125.jpg','10501.jpg','11210.jpg','11874.jpg','140.jpg','3300.jpg','4833.jpg','660.jpg','7978.jpg','850.jpg','9565.jpg','10404.jpg','10820.jpg','11565.jpg','11935.jpg','2663.jpg','3491.jpg','5553.jpg','666.jpg','8470.jpg','9171.jpg','9778.jpg','936.jpg','7968.jpg','Thumbs.db']\n"
   ]
  },
  {
   "cell_type": "code",
   "execution_count": 49,
   "metadata": {},
   "outputs": [
    {
     "name": "stdout",
     "output_type": "stream",
     "text": [
      "Nie można otworzyć pliku: PetImages/Cat/666.jpg\n",
      "Nie można otworzyć pliku: PetImages/Cat/Thumbs.db\n",
      "Nie można otworzyć pliku: PetImages/Dog/11702.jpg\n",
      "Nie można otworzyć pliku: PetImages/Dog/Thumbs.db\n",
      "87\n",
      "93\n"
     ]
    },
    {
     "name": "stderr",
     "output_type": "stream",
     "text": [
      "c:\\Users\\sebas\\anaconda3\\envs\\dl\\lib\\site-packages\\PIL\\TiffImagePlugin.py:864: UserWarning: Truncated File Read\n",
      "  warnings.warn(str(msg))\n"
     ]
    }
   ],
   "source": [
    "#część zdjęć ma mniejszy rozmiar niż te 100x100, które wpisuję w modelu. Poniżej znajduję takie zdjęcia, wrzucam je do list\n",
    "\n",
    "min_width = float('inf')\n",
    "min_height = float('inf')\n",
    "\n",
    "def small_images_generator(folder_path):\n",
    "    for filename in os.listdir(folder_path):\n",
    "        image_path = os.path.join(folder_path, filename)\n",
    "        try:\n",
    "            image = Image.open(image_path)\n",
    "            width, height = image.size\n",
    "            if width < 100 or height < 100:\n",
    "                yield filename\n",
    "        except (IOError, OSError):\n",
    "                print(f\"Nie można otworzyć pliku: {image_path}\")    \n",
    "\n",
    "small_cats = []\n",
    "small_dogs = []\n",
    "for filename in small_images_generator(path_cat):\n",
    "    small_cats.append(filename)\n",
    "\n",
    "for filename in small_images_generator(path_dog):\n",
    "    small_dogs.append(filename)\n",
    "\n",
    "print(len(small_cats))\n",
    "print(len(small_dogs))"
   ]
  },
  {
   "cell_type": "code",
   "execution_count": 50,
   "metadata": {},
   "outputs": [],
   "source": [
    "# zmieniamy kanał na RGM dla zdjęć, które miały inny kanał\n",
    "\n",
    "# for filename in os.listdir(path_dog):\n",
    "#     image_path = os.path.join(path_dog, filename)\n",
    "#     try:\n",
    "#         image = Image.open(image_path)\n",
    "#         if channels not in ['3']:\n",
    "#             image_rgb = image.convert(\"RGB\")\n",
    "#     except (IOError, OSError):\n",
    "#         print(f\"Nie można otworzyć pliku: {image_path}\")\n",
    "\n",
    "# for filename in os.listdir(path_cat):\n",
    "#     image_path = os.path.join(path_cat, filename)\n",
    "#     try:\n",
    "#         image = Image.open(image_path)\n",
    "#         if channels not in ['3']:\n",
    "#             image_rgb = image.convert(\"RGB\")\n",
    "#     except (IOError, OSError):\n",
    "#         print(f\"Nie można otworzyć pliku: {image_path}\")"
   ]
  },
  {
   "cell_type": "code",
   "execution_count": 51,
   "metadata": {},
   "outputs": [],
   "source": [
    "def removing_files(list_of_files_to_delete,folder_path):\n",
    "    for file in list_of_files_to_delete:\n",
    "        file = folder_path + file\n",
    "        try:\n",
    "            os.remove(file)\n",
    "            print(f\"Plik '{file}' usunięty\")\n",
    "        except FileNotFoundError:\n",
    "            print(f\"Nie znaleziono pliku '{file}'\")\n",
    "        except PermissionError:\n",
    "            print(f\"PermissionError: '{file}'.\")\n",
    "        except Exception as e:\n",
    "            print(f\"Exception: '{file}': {str(e)}\")"
   ]
  },
  {
   "cell_type": "code",
   "execution_count": 52,
   "metadata": {},
   "outputs": [
    {
     "name": "stdout",
     "output_type": "stream",
     "text": [
      "Plik 'PetImages/Dog/10158.jpg' usunięty\n",
      "Plik 'PetImages/Dog/10747.jpg' usunięty\n",
      "Plik 'PetImages/Dog/11410.jpg' usunięty\n",
      "Plik 'PetImages/Dog/11702.jpg' usunięty\n",
      "Plik 'PetImages/Dog/11853.jpg' usunięty\n",
      "Plik 'PetImages/Dog/1866.jpg' usunięty\n",
      "Plik 'PetImages/Dog/2688.jpg' usunięty\n",
      "Plik 'PetImages/Dog/3136.jpg' usunięty\n",
      "Plik 'PetImages/Dog/3588.jpg' usunięty\n",
      "Plik 'PetImages/Dog/5604.jpg' usunięty\n",
      "Plik 'PetImages/Dog/6059.jpg' usunięty\n",
      "Plik 'PetImages/Dog/6718.jpg' usunięty\n",
      "Plik 'PetImages/Dog/8133.jpg' usunięty\n",
      "Plik 'PetImages/Dog/7459.jpg' usunięty\n",
      "Plik 'PetImages/Dog/8730.jpg' usunięty\n",
      "Plik 'PetImages/Dog/10401.jpg' usunięty\n",
      "Plik 'PetImages/Dog/10797.jpg' usunięty\n",
      "Plik 'PetImages/Dog/11675.jpg' usunięty\n",
      "Plik 'PetImages/Dog/11849.jpg' usunięty\n",
      "Plik 'PetImages/Dog/1308.jpg' usunięty\n",
      "Plik 'PetImages/Dog/2384.jpg' usunięty\n",
      "Plik 'PetImages/Dog/2877.jpg' usunięty\n",
      "Plik 'PetImages/Dog/3288.jpg' usunięty\n",
      "Plik 'PetImages/Dog/4367.jpg' usunięty\n",
      "Plik 'PetImages/Dog/6238.jpg' usunięty\n",
      "Plik 'PetImages/Dog/7112.jpg' usunięty\n",
      "Plik 'PetImages/Dog/7369.jpg' usunięty\n",
      "Plik 'PetImages/Dog/7969.jpg' usunięty\n",
      "Plik 'PetImages/Dog/9188.jpg' usunięty\n",
      "Plik 'PetImages/Dog/7133.jpg' usunięty\n",
      "Plik 'PetImages/Dog/Thumbs.db' usunięty\n",
      "Plik 'PetImages/Dog/10155.jpg' usunięty\n",
      "Plik 'PetImages/Dog/10225.jpg' usunięty\n",
      "Plik 'PetImages/Dog/10274.jpg' usunięty\n",
      "Plik 'PetImages/Dog/10385.jpg' usunięty\n",
      "Plik 'PetImages/Dog/10637.jpg' usunięty\n",
      "Plik 'PetImages/Dog/10654.jpg' usunięty\n",
      "Plik 'PetImages/Dog/10664.jpg' usunięty\n",
      "Plik 'PetImages/Dog/10729.jpg' usunięty\n",
      "Plik 'PetImages/Dog/10733.jpg' usunięty\n",
      "Nie znaleziono pliku 'PetImages/Dog/10747.jpg'\n",
      "Plik 'PetImages/Dog/10989.jpg' usunięty\n",
      "Plik 'PetImages/Dog/11119.jpg' usunięty\n",
      "Plik 'PetImages/Dog/11184.jpg' usunięty\n",
      "Plik 'PetImages/Dog/11237.jpg' usunięty\n",
      "Plik 'PetImages/Dog/11248.jpg' usunięty\n",
      "Plik 'PetImages/Dog/11279.jpg' usunięty\n",
      "Plik 'PetImages/Dog/11465.jpg' usunięty\n",
      "Plik 'PetImages/Dog/11686.jpg' usunięty\n",
      "Plik 'PetImages/Dog/1174.jpg' usunięty\n",
      "Plik 'PetImages/Dog/11747.jpg' usunięty\n",
      "Plik 'PetImages/Dog/12.jpg' usunięty\n",
      "Plik 'PetImages/Dog/12178.jpg' usunięty\n",
      "Plik 'PetImages/Dog/12185.jpg' usunięty\n",
      "Plik 'PetImages/Dog/12303.jpg' usunięty\n",
      "Plik 'PetImages/Dog/12331.jpg' usunięty\n",
      "Plik 'PetImages/Dog/1259.jpg' usunięty\n",
      "Plik 'PetImages/Dog/1324.jpg' usunięty\n",
      "Plik 'PetImages/Dog/1381.jpg' usunięty\n",
      "Plik 'PetImages/Dog/2068.jpg' usunięty\n",
      "Plik 'PetImages/Dog/2107.jpg' usunięty\n",
      "Plik 'PetImages/Dog/2188.jpg' usunięty\n",
      "Plik 'PetImages/Dog/2317.jpg' usunięty\n",
      "Plik 'PetImages/Dog/2476.jpg' usunięty\n",
      "Plik 'PetImages/Dog/2652.jpg' usunięty\n",
      "Plik 'PetImages/Dog/2667.jpg' usunięty\n",
      "Plik 'PetImages/Dog/284.jpg' usunięty\n",
      "Plik 'PetImages/Dog/2874.jpg' usunięty\n",
      "Plik 'PetImages/Dog/296.jpg' usunięty\n",
      "Plik 'PetImages/Dog/2965.jpg' usunięty\n",
      "Plik 'PetImages/Dog/3074.jpg' usunięty\n",
      "Plik 'PetImages/Dog/3088.jpg' usunięty\n",
      "Plik 'PetImages/Dog/3147.jpg' usunięty\n",
      "Plik 'PetImages/Dog/316.jpg' usunięty\n",
      "Plik 'PetImages/Dog/4134.jpg' usunięty\n",
      "Plik 'PetImages/Dog/4336.jpg' usunięty\n",
      "Nie znaleziono pliku 'PetImages/Dog/4367.jpg'\n",
      "Plik 'PetImages/Dog/4468.jpg' usunięty\n",
      "Plik 'PetImages/Dog/4972.jpg' usunięty\n",
      "Plik 'PetImages/Dog/4980.jpg' usunięty\n",
      "Plik 'PetImages/Dog/5015.jpg' usunięty\n",
      "Plik 'PetImages/Dog/5128.jpg' usunięty\n",
      "Plik 'PetImages/Dog/5152.jpg' usunięty\n",
      "Plik 'PetImages/Dog/5397.jpg' usunięty\n",
      "Plik 'PetImages/Dog/5618.jpg' usunięty\n",
      "Plik 'PetImages/Dog/5645.jpg' usunięty\n",
      "Plik 'PetImages/Dog/5746.jpg' usunięty\n",
      "Plik 'PetImages/Dog/5921.jpg' usunięty\n",
      "Plik 'PetImages/Dog/630.jpg' usunięty\n",
      "Plik 'PetImages/Dog/6473.jpg' usunięty\n",
      "Plik 'PetImages/Dog/6733.jpg' usunięty\n",
      "Plik 'PetImages/Dog/69.jpg' usunięty\n",
      "Plik 'PetImages/Dog/7011.jpg' usunięty\n",
      "Plik 'PetImages/Dog/7077.jpg' usunięty\n",
      "Plik 'PetImages/Dog/7127.jpg' usunięty\n",
      "Nie znaleziono pliku 'PetImages/Dog/7369.jpg'\n",
      "Plik 'PetImages/Dog/7374.jpg' usunięty\n",
      "Plik 'PetImages/Dog/7378.jpg' usunięty\n",
      "Plik 'PetImages/Dog/7421.jpg' usunięty\n",
      "Nie znaleziono pliku 'PetImages/Dog/7459.jpg'\n",
      "Plik 'PetImages/Dog/7610.jpg' usunięty\n",
      "Plik 'PetImages/Dog/7765.jpg' usunięty\n",
      "Plik 'PetImages/Dog/7772.jpg' usunięty\n",
      "Plik 'PetImages/Dog/7893.jpg' usunięty\n",
      "Plik 'PetImages/Dog/7926.jpg' usunięty\n",
      "Plik 'PetImages/Dog/8103.jpg' usunięty\n",
      "Plik 'PetImages/Dog/8152.jpg' usunięty\n",
      "Plik 'PetImages/Dog/8428.jpg' usunięty\n",
      "Plik 'PetImages/Dog/8450.jpg' usunięty\n",
      "Plik 'PetImages/Dog/8539.jpg' usunięty\n",
      "Plik 'PetImages/Dog/8570.jpg' usunięty\n",
      "Plik 'PetImages/Dog/8739.jpg' usunięty\n",
      "Plik 'PetImages/Dog/8987.jpg' usunięty\n",
      "Nie znaleziono pliku 'PetImages/Dog/9188.jpg'\n",
      "Plik 'PetImages/Dog/9246.jpg' usunięty\n",
      "Plik 'PetImages/Dog/927.jpg' usunięty\n",
      "Plik 'PetImages/Dog/9288.jpg' usunięty\n",
      "Plik 'PetImages/Dog/943.jpg' usunięty\n",
      "Plik 'PetImages/Dog/9456.jpg' usunięty\n",
      "Plik 'PetImages/Dog/9512.jpg' usunięty\n",
      "Plik 'PetImages/Dog/9517.jpg' usunięty\n",
      "Plik 'PetImages/Dog/9705.jpg' usunięty\n",
      "Plik 'PetImages/Dog/990.jpg' usunięty\n",
      "Plik 'PetImages/Dog/9999.jpg' usunięty\n",
      "Plik 'PetImages/Cat/10125.jpg' usunięty\n",
      "Plik 'PetImages/Cat/10501.jpg' usunięty\n",
      "Plik 'PetImages/Cat/11210.jpg' usunięty\n",
      "Plik 'PetImages/Cat/11874.jpg' usunięty\n",
      "Plik 'PetImages/Cat/140.jpg' usunięty\n",
      "Plik 'PetImages/Cat/3300.jpg' usunięty\n",
      "Plik 'PetImages/Cat/4833.jpg' usunięty\n",
      "Plik 'PetImages/Cat/660.jpg' usunięty\n",
      "Plik 'PetImages/Cat/7978.jpg' usunięty\n",
      "Plik 'PetImages/Cat/850.jpg' usunięty\n",
      "Plik 'PetImages/Cat/9565.jpg' usunięty\n",
      "Plik 'PetImages/Cat/10404.jpg' usunięty\n",
      "Plik 'PetImages/Cat/10820.jpg' usunięty\n",
      "Plik 'PetImages/Cat/11565.jpg' usunięty\n",
      "Plik 'PetImages/Cat/11935.jpg' usunięty\n",
      "Plik 'PetImages/Cat/2663.jpg' usunięty\n",
      "Plik 'PetImages/Cat/3491.jpg' usunięty\n",
      "Plik 'PetImages/Cat/5553.jpg' usunięty\n",
      "Plik 'PetImages/Cat/666.jpg' usunięty\n",
      "Plik 'PetImages/Cat/8470.jpg' usunięty\n",
      "Plik 'PetImages/Cat/9171.jpg' usunięty\n",
      "Plik 'PetImages/Cat/9778.jpg' usunięty\n",
      "Plik 'PetImages/Cat/936.jpg' usunięty\n",
      "Plik 'PetImages/Cat/7968.jpg' usunięty\n",
      "Plik 'PetImages/Cat/Thumbs.db' usunięty\n",
      "Plik 'PetImages/Cat/10107.jpg' usunięty\n",
      "Plik 'PetImages/Cat/10277.jpg' usunięty\n",
      "Plik 'PetImages/Cat/10335.jpg' usunięty\n",
      "Plik 'PetImages/Cat/10392.jpg' usunięty\n",
      "Plik 'PetImages/Cat/10418.jpg' usunięty\n",
      "Plik 'PetImages/Cat/10748.jpg' usunięty\n",
      "Plik 'PetImages/Cat/10807.jpg' usunięty\n",
      "Plik 'PetImages/Cat/10854.jpg' usunięty\n",
      "Plik 'PetImages/Cat/10893.jpg' usunięty\n",
      "Plik 'PetImages/Cat/10925.jpg' usunięty\n",
      "Plik 'PetImages/Cat/11091.jpg' usunięty\n",
      "Plik 'PetImages/Cat/11094.jpg' usunięty\n",
      "Plik 'PetImages/Cat/11263.jpg' usunięty\n",
      "Plik 'PetImages/Cat/11337.jpg' usunięty\n",
      "Plik 'PetImages/Cat/11504.jpg' usunięty\n",
      "Plik 'PetImages/Cat/1423.jpg' usunięty\n",
      "Plik 'PetImages/Cat/146.jpg' usunięty\n",
      "Plik 'PetImages/Cat/1631.jpg' usunięty\n",
      "Plik 'PetImages/Cat/183.jpg' usunięty\n",
      "Plik 'PetImages/Cat/1840.jpg' usunięty\n",
      "Plik 'PetImages/Cat/2095.jpg' usunięty\n",
      "Plik 'PetImages/Cat/2096.jpg' usunięty\n",
      "Plik 'PetImages/Cat/2165.jpg' usunięty\n",
      "Plik 'PetImages/Cat/2433.jpg' usunięty\n",
      "Nie znaleziono pliku 'PetImages/Cat/2663.jpg'\n",
      "Plik 'PetImages/Cat/2674.jpg' usunięty\n",
      "Plik 'PetImages/Cat/2691.jpg' usunięty\n",
      "Plik 'PetImages/Cat/2753.jpg' usunięty\n",
      "Plik 'PetImages/Cat/2845.jpg' usunięty\n",
      "Plik 'PetImages/Cat/3054.jpg' usunięty\n",
      "Plik 'PetImages/Cat/3250.jpg' usunięty\n",
      "Plik 'PetImages/Cat/3410.jpg' usunięty\n",
      "Plik 'PetImages/Cat/3567.jpg' usunięty\n",
      "Plik 'PetImages/Cat/3637.jpg' usunięty\n",
      "Plik 'PetImages/Cat/3641.jpg' usunięty\n",
      "Plik 'PetImages/Cat/3699.jpg' usunięty\n",
      "Plik 'PetImages/Cat/3716.jpg' usunięty\n",
      "Plik 'PetImages/Cat/3739.jpg' usunięty\n",
      "Plik 'PetImages/Cat/3980.jpg' usunięty\n",
      "Plik 'PetImages/Cat/4577.jpg' usunięty\n",
      "Plik 'PetImages/Cat/4629.jpg' usunięty\n",
      "Plik 'PetImages/Cat/4670.jpg' usunięty\n",
      "Plik 'PetImages/Cat/4762.jpg' usunięty\n",
      "Plik 'PetImages/Cat/48.jpg' usunięty\n",
      "Plik 'PetImages/Cat/4821.jpg' usunięty\n",
      "Nie znaleziono pliku 'PetImages/Cat/4833.jpg'\n",
      "Plik 'PetImages/Cat/485.jpg' usunięty\n",
      "Plik 'PetImages/Cat/4963.jpg' usunięty\n",
      "Plik 'PetImages/Cat/5257.jpg' usunięty\n",
      "Plik 'PetImages/Cat/5527.jpg' usunięty\n",
      "Plik 'PetImages/Cat/5534.jpg' usunięty\n",
      "Plik 'PetImages/Cat/5673.jpg' usunięty\n",
      "Plik 'PetImages/Cat/5773.jpg' usunięty\n",
      "Plik 'PetImages/Cat/5780.jpg' usunięty\n",
      "Plik 'PetImages/Cat/5954.jpg' usunięty\n",
      "Plik 'PetImages/Cat/596.jpg' usunięty\n",
      "Plik 'PetImages/Cat/6402.jpg' usunięty\n",
      "Plik 'PetImages/Cat/6614.jpg' usunięty\n",
      "Plik 'PetImages/Cat/664.jpg' usunięty\n",
      "Plik 'PetImages/Cat/7034.jpg' usunięty\n",
      "Plik 'PetImages/Cat/7312.jpg' usunięty\n",
      "Plik 'PetImages/Cat/7314.jpg' usunięty\n",
      "Plik 'PetImages/Cat/7487.jpg' usunięty\n",
      "Plik 'PetImages/Cat/7526.jpg' usunięty\n",
      "Plik 'PetImages/Cat/7588.jpg' usunięty\n",
      "Plik 'PetImages/Cat/7630.jpg' usunięty\n",
      "Plik 'PetImages/Cat/7703.jpg' usunięty\n",
      "Nie znaleziono pliku 'PetImages/Cat/7968.jpg'\n",
      "Plik 'PetImages/Cat/8044.jpg' usunięty\n",
      "Plik 'PetImages/Cat/8087.jpg' usunięty\n",
      "Plik 'PetImages/Cat/8138.jpg' usunięty\n",
      "Plik 'PetImages/Cat/835.jpg' usunięty\n",
      "Plik 'PetImages/Cat/8448.jpg' usunięty\n",
      "Nie znaleziono pliku 'PetImages/Cat/8470.jpg'\n",
      "Plik 'PetImages/Cat/8504.jpg' usunięty\n",
      "Plik 'PetImages/Cat/8585.jpg' usunięty\n",
      "Plik 'PetImages/Cat/8594.jpg' usunięty\n",
      "Plik 'PetImages/Cat/862.jpg' usunięty\n",
      "Plik 'PetImages/Cat/8709.jpg' usunięty\n",
      "Plik 'PetImages/Cat/8744.jpg' usunięty\n",
      "Plik 'PetImages/Cat/8749.jpg' usunięty\n",
      "Plik 'PetImages/Cat/8755.jpg' usunięty\n",
      "Plik 'PetImages/Cat/8848.jpg' usunięty\n",
      "Plik 'PetImages/Cat/8935.jpg' usunięty\n",
      "Nie znaleziono pliku 'PetImages/Cat/9171.jpg'\n",
      "Plik 'PetImages/Cat/9589.jpg' usunięty\n",
      "Plik 'PetImages/Cat/9703.jpg' usunięty\n"
     ]
    }
   ],
   "source": [
    "# tutaj usuwam pliki z tych list: error_dogs, error_cats, small_cats, small_dogs,\n",
    "# dla każdej listy trzeba odpowiednio dobrać ścieżkę: path_cat, path_dog\n",
    "\n",
    "removing_files(error_dogs,path_dog)\n",
    "removing_files(small_dogs,path_dog)\n",
    "removing_files(error_cats,path_cat)\n",
    "removing_files(small_cats,path_cat)"
   ]
  },
  {
   "cell_type": "code",
   "execution_count": 53,
   "metadata": {},
   "outputs": [
    {
     "name": "stdout",
     "output_type": "stream",
     "text": [
      "Nie można otworzyć pliku: PetImages/Cat/11095.jpg\n",
      "Nie można otworzyć pliku: PetImages/Cat/12080.jpg\n",
      "Nie można otworzyć pliku: PetImages/Cat/5370.jpg\n",
      "Nie można otworzyć pliku: PetImages/Cat/6435.jpg\n"
     ]
    }
   ],
   "source": [
    "# poniższe pętle konwertują wszystkie zdjęcia na kanał 3 - 'RGB'. Miałem problemy z fitowaniem, więc chciałem się upewnić, że wszystko jest 'RGB'\n",
    "\n",
    "for filename in os.listdir(path_dog):\n",
    "    image_path = os.path.join(path_dog, filename)\n",
    "    try:\n",
    "        image = Image.open(image_path)\n",
    "        image_gray = image.convert(\"RGB\")\n",
    "        image_gray.save(image_path)\n",
    "    except (IOError, OSError):\n",
    "        print(f\"Nie można otworzyć pliku: {image_path}\")\n",
    "\n",
    "for filename in os.listdir(path_cat):\n",
    "    image_path = os.path.join(path_cat, filename)\n",
    "    try:\n",
    "        image = Image.open(image_path)\n",
    "        image_gray = image.convert(\"RGB\")\n",
    "        image_gray.save(image_path)\n",
    "    except (IOError, OSError):\n",
    "        print(f\"Nie można otworzyć pliku: {image_path}\")"
   ]
  },
  {
   "cell_type": "code",
   "execution_count": 54,
   "metadata": {},
   "outputs": [
    {
     "name": "stdout",
     "output_type": "stream",
     "text": [
      "Found 24776 files belonging to 2 classes.\n",
      "Using 19821 files for training.\n"
     ]
    }
   ],
   "source": [
    "train_ds = tf.keras.utils.image_dataset_from_directory(\n",
    "    path_data,\n",
    "    labels='inferred',\n",
    "    batch_size=32,\n",
    "    image_size=(100, 100),\n",
    "    validation_split=0.2,\n",
    "    subset = 'training',\n",
    "    seed=123,\n",
    "    class_names=['Cat', 'Dog']\n",
    ")\n"
   ]
  },
  {
   "cell_type": "code",
   "execution_count": 55,
   "metadata": {},
   "outputs": [
    {
     "name": "stdout",
     "output_type": "stream",
     "text": [
      "Found 24776 files belonging to 2 classes.\n",
      "Using 4955 files for validation.\n"
     ]
    }
   ],
   "source": [
    "val_ds = tf.keras.utils.image_dataset_from_directory(\n",
    "    path_data,\n",
    "    labels='inferred',\n",
    "    batch_size=32,\n",
    "    image_size=(100, 100),\n",
    "    validation_split=0.2,\n",
    "    subset = 'validation',\n",
    "    seed=123,\n",
    "    class_names=['Cat', 'Dog']\n",
    ")\n"
   ]
  },
  {
   "cell_type": "code",
   "execution_count": 56,
   "metadata": {},
   "outputs": [],
   "source": [
    "AUTOTUNE = tf.data.AUTOTUNE\n",
    "\n",
    "train_ds = train_ds.cache().shuffle(1000).prefetch(buffer_size=AUTOTUNE)\n",
    "val_ds = val_ds.cache().prefetch(buffer_size=AUTOTUNE)"
   ]
  },
  {
   "cell_type": "code",
   "execution_count": 57,
   "metadata": {},
   "outputs": [],
   "source": [
    "train_ds = train_ds.map(lambda x, y: (x, tf.one_hot(y, depth=2)))\n",
    "val_ds = val_ds.map(lambda x, y: (x, tf.one_hot(y, depth=2)))"
   ]
  },
  {
   "cell_type": "code",
   "execution_count": 58,
   "metadata": {},
   "outputs": [],
   "source": [
    "# data = []\n",
    "# labels = []"
   ]
  },
  {
   "cell_type": "code",
   "execution_count": 59,
   "metadata": {},
   "outputs": [],
   "source": [
    "# cat_images = os.listdir(path_cat)\n",
    "# for image_name in cat_images:\n",
    "#     try:\n",
    "#         image_path = os.path.join(path_cat, image_name)\n",
    "#         image = cv2.imread(image_path)\n",
    "#         image = cv2.resize(image, (150, 150))\n",
    "#         image = image.astype('float32') / 255.0\n",
    "#         data.append(image)\n",
    "#         labels.append('cat')\n",
    "#     except:\n",
    "#         pass\n"
   ]
  },
  {
   "cell_type": "code",
   "execution_count": 60,
   "metadata": {},
   "outputs": [],
   "source": [
    "# dog_images = os.listdir(path_dog)\n",
    "# for image_name in dog_images:\n",
    "#     try:\n",
    "#         image_path = os.path.join(path_dog, image_name)\n",
    "#         image = cv2.imread(image_path)\n",
    "#         image = cv2.resize(image, (150, 150))\n",
    "#         image = image.astype('float32') / 255.0\n",
    "#         data.append(image)\n",
    "#         labels.append('dog')\n",
    "#     except:\n",
    "#         pass\n"
   ]
  },
  {
   "cell_type": "code",
   "execution_count": 87,
   "metadata": {},
   "outputs": [],
   "source": [
    "\n",
    "model = Sequential()\n",
    "model.add(Rescaling(1./255, input_shape=(100, 100, 3)))\n",
    "model.add(Conv2D(16, 3, padding='same', activation='relu'))\n",
    "model.add(MaxPooling2D((2, 2)))\n",
    "model.add(Dropout(0.5))\n",
    "model.add(Conv2D(32, 3, padding='same', activation='relu'))\n",
    "model.add(MaxPooling2D((2, 2)))\n",
    "model.add(Dropout(0.5))\n",
    "model.add(Conv2D(64, 3, padding='same', activation='relu'))\n",
    "model.add(MaxPooling2D((2, 2)))\n",
    "\n",
    "model.add(Flatten())\n",
    "# Dodawanie warstw gęstych\n",
    "model.add(Dense(32, activation='relu'))\n",
    "model.add(Dropout(0.5))\n",
    "model.add(Dense(16, activation='relu'))\n",
    "model.add(Dense(2, activation='softmax'))  # Warstwa wyjściowa z dwoma neuronami (kot i pies)\n"
   ]
  },
  {
   "cell_type": "code",
   "execution_count": 88,
   "metadata": {},
   "outputs": [],
   "source": [
    "model.compile(optimizer='adam', loss='categorical_crossentropy', metrics=['accuracy'])\n"
   ]
  },
  {
   "cell_type": "code",
   "execution_count": 89,
   "metadata": {},
   "outputs": [
    {
     "name": "stdout",
     "output_type": "stream",
     "text": [
      "Model: \"sequential_3\"\n",
      "_________________________________________________________________\n",
      " Layer (type)                Output Shape              Param #   \n",
      "=================================================================\n",
      " rescaling_3 (Rescaling)     (None, 100, 100, 3)       0         \n",
      "                                                                 \n",
      " conv2d_9 (Conv2D)           (None, 100, 100, 16)      448       \n",
      "                                                                 \n",
      " max_pooling2d (MaxPooling2D  (None, 50, 50, 16)       0         \n",
      " )                                                               \n",
      "                                                                 \n",
      " dropout (Dropout)           (None, 50, 50, 16)        0         \n",
      "                                                                 \n",
      " conv2d_10 (Conv2D)          (None, 50, 50, 32)        4640      \n",
      "                                                                 \n",
      " max_pooling2d_1 (MaxPooling  (None, 25, 25, 32)       0         \n",
      " 2D)                                                             \n",
      "                                                                 \n",
      " dropout_1 (Dropout)         (None, 25, 25, 32)        0         \n",
      "                                                                 \n",
      " conv2d_11 (Conv2D)          (None, 25, 25, 64)        18496     \n",
      "                                                                 \n",
      " max_pooling2d_2 (MaxPooling  (None, 12, 12, 64)       0         \n",
      " 2D)                                                             \n",
      "                                                                 \n",
      " flatten_3 (Flatten)         (None, 9216)              0         \n",
      "                                                                 \n",
      " dense_9 (Dense)             (None, 32)                294944    \n",
      "                                                                 \n",
      " dropout_2 (Dropout)         (None, 32)                0         \n",
      "                                                                 \n",
      " dense_10 (Dense)            (None, 16)                528       \n",
      "                                                                 \n",
      " dense_11 (Dense)            (None, 2)                 34        \n",
      "                                                                 \n",
      "=================================================================\n",
      "Total params: 319,090\n",
      "Trainable params: 319,090\n",
      "Non-trainable params: 0\n",
      "_________________________________________________________________\n",
      "None\n"
     ]
    }
   ],
   "source": [
    "print(model.summary())"
   ]
  },
  {
   "cell_type": "code",
   "execution_count": 90,
   "metadata": {},
   "outputs": [],
   "source": [
    "es = tf.keras.callbacks.EarlyStopping(\n",
    "    monitor=\"val_loss\",\n",
    "    min_delta=0.01,\n",
    "    patience=3\n",
    ")"
   ]
  },
  {
   "cell_type": "code",
   "execution_count": 91,
   "metadata": {},
   "outputs": [
    {
     "name": "stdout",
     "output_type": "stream",
     "text": [
      "Epoch 1/20\n"
     ]
    },
    {
     "name": "stdout",
     "output_type": "stream",
     "text": [
      "620/620 [==============================] - 48s 77ms/step - loss: 0.6977 - accuracy: 0.5121 - val_loss: 0.6934 - val_accuracy: 0.4902\n",
      "Epoch 2/20\n",
      "620/620 [==============================] - 48s 78ms/step - loss: 0.6932 - accuracy: 0.4974 - val_loss: 0.6932 - val_accuracy: 0.4902\n",
      "Epoch 3/20\n",
      "620/620 [==============================] - 46s 74ms/step - loss: 0.6932 - accuracy: 0.4966 - val_loss: 0.6935 - val_accuracy: 0.4902\n",
      "Epoch 4/20\n",
      "620/620 [==============================] - 46s 74ms/step - loss: 0.6932 - accuracy: 0.4977 - val_loss: 0.6932 - val_accuracy: 0.4902\n"
     ]
    }
   ],
   "source": [
    "results = model.fit(train_ds, epochs=20, validation_data=val_ds, callbacks=es)"
   ]
  },
  {
   "cell_type": "code",
   "execution_count": 92,
   "metadata": {},
   "outputs": [
    {
     "name": "stdout",
     "output_type": "stream",
     "text": [
      "155/155 [==============================] - 4s 28ms/step\n",
      "              precision    recall  f1-score   support\n",
      "\n",
      "         Dog       0.49      1.00      0.66      2429\n",
      "         Cat       0.00      0.00      0.00      2526\n",
      "\n",
      "    accuracy                           0.49      4955\n",
      "   macro avg       0.25      0.50      0.33      4955\n",
      "weighted avg       0.24      0.49      0.32      4955\n",
      "\n"
     ]
    },
    {
     "name": "stderr",
     "output_type": "stream",
     "text": [
      "c:\\Users\\sebas\\anaconda3\\envs\\dl\\lib\\site-packages\\sklearn\\metrics\\_classification.py:1334: UndefinedMetricWarning: Precision and F-score are ill-defined and being set to 0.0 in labels with no predicted samples. Use `zero_division` parameter to control this behavior.\n",
      "  _warn_prf(average, modifier, msg_start, len(result))\n",
      "c:\\Users\\sebas\\anaconda3\\envs\\dl\\lib\\site-packages\\sklearn\\metrics\\_classification.py:1334: UndefinedMetricWarning: Precision and F-score are ill-defined and being set to 0.0 in labels with no predicted samples. Use `zero_division` parameter to control this behavior.\n",
      "  _warn_prf(average, modifier, msg_start, len(result))\n",
      "c:\\Users\\sebas\\anaconda3\\envs\\dl\\lib\\site-packages\\sklearn\\metrics\\_classification.py:1334: UndefinedMetricWarning: Precision and F-score are ill-defined and being set to 0.0 in labels with no predicted samples. Use `zero_division` parameter to control this behavior.\n",
      "  _warn_prf(average, modifier, msg_start, len(result))\n"
     ]
    }
   ],
   "source": [
    "# Generate predictions for the validation dataset\n",
    "y_pred = np.argmax(model.predict(val_ds), axis=1)\n",
    "\n",
    "# Get true labels for the validation dataset\n",
    "y_test = np.concatenate([y for x, y in val_ds], axis=0)\n",
    "y_test = np.argmax(y_test, axis=1)\n",
    "\n",
    "# Print the classification report\n",
    "print(classification_report(y_test, y_pred, target_names=[\"Dog\", \"Cat\"]))\n"
   ]
  },
  {
   "cell_type": "code",
   "execution_count": 93,
   "metadata": {},
   "outputs": [
    {
     "data": {
      "image/png": "[encoded data removed]",
      "text/plain": [
       "<Figure size 640x480 with 1 Axes>"
      ]
     },
     "metadata": {},
     "output_type": "display_data"
    }
   ],
   "source": [
    "plt.plot(results.history[\"loss\"])\n",
    "plt.plot(results.history[\"val_loss\"])\n",
    "plt.title(\"loss\")\n",
    "plt.show()"
   ]
  },
  {
   "cell_type": "code",
   "execution_count": 94,
   "metadata": {},
   "outputs": [
    {
     "data": {
      "image/png": "[encoded data removed]",
      "text/plain": [
       "<Figure size 640x480 with 1 Axes>"
      ]
     },
     "metadata": {},
     "output_type": "display_data"
    }
   ],
   "source": [
    "plt.plot(results.history[\"accuracy\"])\n",
    "plt.plot(results.history[\"val_accuracy\"])\n",
    "plt.title(\"accuracy\")\n",
    "plt.show()"
   ]
  }
 ],
 "metadata": {
  "kernelspec": {
   "display_name": "dl",
   "language": "python",
   "name": "python3"
  },
  "language_info": {
   "codemirror_mode": {
    "name": "ipython",
    "version": 3
   },
   "file_extension": ".py",
   "mimetype": "text/x-python",
   "name": "python",
   "nbconvert_exporter": "python",
   "pygments_lexer": "ipython3",
   "version": "3.9.16"
  },
  "orig_nbformat": 4
 },
 "nbformat": 4,
 "nbformat_minor": 2
}
