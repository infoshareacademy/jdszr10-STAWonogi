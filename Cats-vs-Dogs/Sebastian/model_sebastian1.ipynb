{
 "cells": [
  {
   "cell_type": "code",
   "execution_count": 359,
   "metadata": {},
   "outputs": [],
   "source": [
    "import matplotlib.pyplot as plt\n",
    "from sklearn.metrics import classification_report\n",
    "import cv2\n",
    "from tensorflow.keras import layers\n",
    "import os\n",
    "import numpy as np\n",
    "import tensorflow as tf\n",
    "from tensorflow.keras.models import Sequential\n",
    "from tensorflow.keras.layers import Conv2D, MaxPooling2D, Flatten, Dense\n",
    "from sklearn.model_selection import train_test_split\n",
    "from sklearn.preprocessing import LabelEncoder\n",
    "from keras.utils import to_categorical"
   ]
  },
  {
   "cell_type": "code",
   "execution_count": 360,
   "metadata": {},
   "outputs": [
    {
     "data": {
      "text/plain": [
       "numpy.ndarray"
      ]
     },
     "execution_count": 360,
     "metadata": {},
     "output_type": "execute_result"
    }
   ],
   "source": [
    "img = cv2.imread(\"Cat1/1.jpg\")\n",
    "type(img)"
   ]
  },
  {
   "cell_type": "code",
   "execution_count": 361,
   "metadata": {},
   "outputs": [],
   "source": [
    "path_cat = 'Cat1/'\n",
    "path_dog = 'Dog1/'"
   ]
  },
  {
   "cell_type": "code",
   "execution_count": null,
   "metadata": {},
   "outputs": [],
   "source": [
    "\n"
   ]
  },
  {
   "cell_type": "code",
   "execution_count": 362,
   "metadata": {},
   "outputs": [],
   "source": [
    "path_cat = 'Cat1'\n",
    "path_dog = 'Dog1'\n",
    "\n",
    "data = []\n",
    "labels = []\n"
   ]
  },
  {
   "cell_type": "code",
   "execution_count": 363,
   "metadata": {},
   "outputs": [],
   "source": [
    "cat_images = os.listdir(path_cat)\n",
    "for image_name in cat_images:\n",
    "    image_path = os.path.join(path_cat, image_name)\n",
    "    image = cv2.imread(image_path)\n",
    "    image = cv2.resize(image, (150, 150))\n",
    "    image = image.astype('float32') / 255.0\n",
    "    data.append(image)\n",
    "    labels.append('cat')\n"
   ]
  },
  {
   "cell_type": "code",
   "execution_count": 364,
   "metadata": {},
   "outputs": [],
   "source": [
    "dog_images = os.listdir(path_dog)\n",
    "for image_name in dog_images:\n",
    "    image_path = os.path.join(path_dog, image_name)\n",
    "    image = cv2.imread(image_path)\n",
    "    image = cv2.resize(image, (150, 150))\n",
    "    image = image.astype('float32') / 255.0\n",
    "    data.append(image)\n",
    "    labels.append('dog')\n"
   ]
  },
  {
   "cell_type": "code",
   "execution_count": 365,
   "metadata": {},
   "outputs": [],
   "source": [
    "label_encoder = LabelEncoder()\n",
    "labels = label_encoder.fit_transform(labels)\n"
   ]
  },
  {
   "cell_type": "code",
   "execution_count": 366,
   "metadata": {},
   "outputs": [],
   "source": [
    "X_train, X_test, y_train, y_test = train_test_split(data, labels, test_size=0.2, random_state=42)"
   ]
  },
  {
   "cell_type": "code",
   "execution_count": 367,
   "metadata": {},
   "outputs": [],
   "source": [
    "X_train = np.array(X_train)\n",
    "X_test = np.array(X_test)\n",
    "y_train = to_categorical(y_train)\n",
    "y_test = to_categorical(y_test)"
   ]
  },
  {
   "cell_type": "code",
   "execution_count": 368,
   "metadata": {},
   "outputs": [
    {
     "name": "stdout",
     "output_type": "stream",
     "text": [
      "80\n",
      "20\n",
      "80\n",
      "20\n"
     ]
    }
   ],
   "source": [
    "print(len(X_train))\n",
    "print(len(X_test))\n",
    "print(len(y_train))\n",
    "print(len(y_test))\n"
   ]
  },
  {
   "cell_type": "code",
   "execution_count": 369,
   "metadata": {},
   "outputs": [],
   "source": [
    "model = Sequential()\n",
    "model.add(Conv2D(32, (3, 3), activation='relu', input_shape=(150, 150, 3)))\n",
    "model.add(MaxPooling2D((2, 2)))\n",
    "model.add(Conv2D(64, (3, 3), activation='relu'))\n",
    "model.add(MaxPooling2D((2, 2)))\n",
    "model.add(Conv2D(128, (3, 3), activation='relu'))\n",
    "model.add(MaxPooling2D((2, 2)))\n",
    "\n",
    "model.add(Flatten())"
   ]
  },
  {
   "cell_type": "code",
   "execution_count": 370,
   "metadata": {},
   "outputs": [],
   "source": [
    "# Dodawanie warstw gęstych\n",
    "model.add(Dense(64, activation='relu'))\n",
    "model.add(Dense(256, activation='relu'))\n",
    "model.add(Dense(128, activation='relu'))\n",
    "model.add(Dense(2, activation='softmax'))  # Warstwa wyjściowa z dwoma neuronami (kot i pies)"
   ]
  },
  {
   "cell_type": "code",
   "execution_count": 371,
   "metadata": {},
   "outputs": [],
   "source": [
    "model.compile(optimizer='adam', loss='categorical_crossentropy', metrics=['accuracy'])"
   ]
  },
  {
   "cell_type": "code",
   "execution_count": 372,
   "metadata": {},
   "outputs": [
    {
     "name": "stdout",
     "output_type": "stream",
     "text": [
      "Model: \"sequential_13\"\n",
      "_________________________________________________________________\n",
      " Layer (type)                Output Shape              Param #   \n",
      "=================================================================\n",
      " conv2d_38 (Conv2D)          (None, 148, 148, 32)      896       \n",
      "                                                                 \n",
      " max_pooling2d_38 (MaxPoolin  (None, 74, 74, 32)       0         \n",
      " g2D)                                                            \n",
      "                                                                 \n",
      " conv2d_39 (Conv2D)          (None, 72, 72, 64)        18496     \n",
      "                                                                 \n",
      " max_pooling2d_39 (MaxPoolin  (None, 36, 36, 64)       0         \n",
      " g2D)                                                            \n",
      "                                                                 \n",
      " conv2d_40 (Conv2D)          (None, 34, 34, 128)       73856     \n",
      "                                                                 \n",
      " max_pooling2d_40 (MaxPoolin  (None, 17, 17, 128)      0         \n",
      " g2D)                                                            \n",
      "                                                                 \n",
      " flatten_11 (Flatten)        (None, 36992)             0         \n",
      "                                                                 \n",
      " dense_33 (Dense)            (None, 64)                2367552   \n",
      "                                                                 \n",
      " dense_34 (Dense)            (None, 256)               16640     \n",
      "                                                                 \n",
      " dense_35 (Dense)            (None, 128)               32896     \n",
      "                                                                 \n",
      " dense_36 (Dense)            (None, 2)                 258       \n",
      "                                                                 \n",
      "=================================================================\n",
      "Total params: 2,510,594\n",
      "Trainable params: 2,510,594\n",
      "Non-trainable params: 0\n",
      "_________________________________________________________________\n",
      "None\n"
     ]
    }
   ],
   "source": [
    "print(model.summary())"
   ]
  },
  {
   "cell_type": "code",
   "execution_count": 373,
   "metadata": {},
   "outputs": [
    {
     "name": "stdout",
     "output_type": "stream",
     "text": [
      "Epoch 1/20\n",
      "3/3 [==============================] - 2s 387ms/step - loss: 0.8673 - accuracy: 0.5000 - val_loss: 0.6630 - val_accuracy: 0.6000\n",
      "Epoch 2/20\n",
      "3/3 [==============================] - 1s 302ms/step - loss: 0.7115 - accuracy: 0.5875 - val_loss: 0.7154 - val_accuracy: 0.4000\n",
      "Epoch 3/20\n",
      "3/3 [==============================] - 1s 296ms/step - loss: 0.6942 - accuracy: 0.5250 - val_loss: 0.7206 - val_accuracy: 0.4000\n",
      "Epoch 4/20\n",
      "3/3 [==============================] - 1s 299ms/step - loss: 0.6925 - accuracy: 0.5250 - val_loss: 0.7093 - val_accuracy: 0.4000\n",
      "Epoch 5/20\n",
      "3/3 [==============================] - 1s 318ms/step - loss: 0.6905 - accuracy: 0.5250 - val_loss: 0.7088 - val_accuracy: 0.4000\n",
      "Epoch 6/20\n",
      "3/3 [==============================] - 1s 326ms/step - loss: 0.6856 - accuracy: 0.5250 - val_loss: 0.7069 - val_accuracy: 0.4000\n",
      "Epoch 7/20\n",
      "3/3 [==============================] - 1s 305ms/step - loss: 0.6816 - accuracy: 0.5250 - val_loss: 0.7158 - val_accuracy: 0.4000\n",
      "Epoch 8/20\n",
      "3/3 [==============================] - 1s 286ms/step - loss: 0.6716 - accuracy: 0.5250 - val_loss: 0.7190 - val_accuracy: 0.4000\n",
      "Epoch 9/20\n",
      "3/3 [==============================] - 1s 292ms/step - loss: 0.6578 - accuracy: 0.5250 - val_loss: 0.7129 - val_accuracy: 0.4000\n",
      "Epoch 10/20\n",
      "3/3 [==============================] - 1s 276ms/step - loss: 0.6256 - accuracy: 0.5250 - val_loss: 0.8093 - val_accuracy: 0.4000\n",
      "Epoch 11/20\n",
      "3/3 [==============================] - 1s 294ms/step - loss: 0.5822 - accuracy: 0.6125 - val_loss: 0.7833 - val_accuracy: 0.4000\n",
      "Epoch 12/20\n",
      "3/3 [==============================] - 1s 293ms/step - loss: 0.4990 - accuracy: 0.7125 - val_loss: 0.7279 - val_accuracy: 0.7000\n",
      "Epoch 13/20\n",
      "3/3 [==============================] - 1s 292ms/step - loss: 0.4399 - accuracy: 0.9125 - val_loss: 0.7858 - val_accuracy: 0.6500\n",
      "Epoch 14/20\n",
      "3/3 [==============================] - 1s 302ms/step - loss: 0.3011 - accuracy: 0.9500 - val_loss: 0.7982 - val_accuracy: 0.7500\n",
      "Epoch 15/20\n",
      "3/3 [==============================] - 1s 292ms/step - loss: 0.2144 - accuracy: 0.9250 - val_loss: 0.7763 - val_accuracy: 0.6000\n",
      "Epoch 16/20\n",
      "3/3 [==============================] - 1s 291ms/step - loss: 0.1520 - accuracy: 0.9375 - val_loss: 1.2760 - val_accuracy: 0.5500\n",
      "Epoch 17/20\n",
      "3/3 [==============================] - 1s 291ms/step - loss: 0.0770 - accuracy: 0.9875 - val_loss: 0.9922 - val_accuracy: 0.6500\n",
      "Epoch 18/20\n",
      "3/3 [==============================] - 1s 309ms/step - loss: 0.0396 - accuracy: 1.0000 - val_loss: 1.2394 - val_accuracy: 0.7500\n",
      "Epoch 19/20\n",
      "3/3 [==============================] - 1s 299ms/step - loss: 0.0143 - accuracy: 1.0000 - val_loss: 1.4968 - val_accuracy: 0.8000\n",
      "Epoch 20/20\n",
      "3/3 [==============================] - 1s 291ms/step - loss: 0.0079 - accuracy: 1.0000 - val_loss: 1.7375 - val_accuracy: 0.7000\n"
     ]
    }
   ],
   "source": [
    "results = model.fit(X_train, y_train, epochs=20, batch_size=32, validation_data=(X_test, y_test))"
   ]
  },
  {
   "cell_type": "code",
   "execution_count": 374,
   "metadata": {},
   "outputs": [
    {
     "name": "stdout",
     "output_type": "stream",
     "text": [
      "WARNING:tensorflow:6 out of the last 6 calls to <function Model.make_predict_function.<locals>.predict_function at 0x000001B6B1B70160> triggered tf.function retracing. Tracing is expensive and the excessive number of tracings could be due to (1) creating @tf.function repeatedly in a loop, (2) passing tensors with different shapes, (3) passing Python objects instead of tensors. For (1), please define your @tf.function outside of the loop. For (2), @tf.function has reduce_retracing=True option that can avoid unnecessary retracing. For (3), please refer to https://www.tensorflow.org/guide/function#controlling_retracing and https://www.tensorflow.org/api_docs/python/tf/function for  more details.\n",
      "1/1 [==============================] - 0s 124ms/step\n",
      "              precision    recall  f1-score   support\n",
      "\n",
      "           0       0.88      0.58      0.70        12\n",
      "           1       0.58      0.88      0.70         8\n",
      "\n",
      "    accuracy                           0.70        20\n",
      "   macro avg       0.73      0.73      0.70        20\n",
      "weighted avg       0.76      0.70      0.70        20\n",
      "\n"
     ]
    }
   ],
   "source": [
    "print(classification_report(y_test.argmax(axis=1), model.predict(X_test).argmax(axis=1)))"
   ]
  },
  {
   "cell_type": "code",
   "execution_count": 375,
   "metadata": {},
   "outputs": [
    {
     "data": {
      "image/png": "[encoded data removed]",
      "text/plain": [
       "<Figure size 640x480 with 1 Axes>"
      ]
     },
     "metadata": {},
     "output_type": "display_data"
    }
   ],
   "source": [
    "plt.plot(results.history[\"loss\"])\n",
    "plt.title(\"loss\")\n",
    "plt.show()"
   ]
  },
  {
   "cell_type": "code",
   "execution_count": 376,
   "metadata": {},
   "outputs": [
    {
     "data": {
      "image/png": "[encoded data removed]",
      "text/plain": [
       "<Figure size 640x480 with 1 Axes>"
      ]
     },
     "metadata": {},
     "output_type": "display_data"
    }
   ],
   "source": [
    "plt.plot(results.history[\"accuracy\"])\n",
    "plt.title(\"accuracy\")\n",
    "plt.show()"
   ]
  }
 ],
 "metadata": {
  "kernelspec": {
   "display_name": "dl",
   "language": "python",
   "name": "python3"
  },
  "language_info": {
   "codemirror_mode": {
    "name": "ipython",
    "version": 3
   },
   "file_extension": ".py",
   "mimetype": "text/x-python",
   "name": "python",
   "nbconvert_exporter": "python",
   "pygments_lexer": "ipython3",
   "version": "3.9.16"
  },
  "orig_nbformat": 4
 },
 "nbformat": 4,
 "nbformat_minor": 2
}
