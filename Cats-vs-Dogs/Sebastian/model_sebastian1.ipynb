{
 "cells": [
  {
   "cell_type": "code",
   "execution_count": 13,
   "metadata": {},
   "outputs": [],
   "source": [
    "import matplotlib.pyplot as plt\n",
    "from sklearn.metrics import classification_report, confusion_matrix\n",
    "import cv2\n",
    "from tensorflow.keras import layers\n",
    "import os\n",
    "import PIL\n",
    "from PIL import Image\n",
    "\n",
    "import numpy as np\n",
    "import tensorflow as tf\n",
    "from tensorflow import keras\n",
    "from sklearn.preprocessing import OneHotEncoder\n",
    "from tensorflow.keras.models import Sequential\n",
    "from tensorflow.keras.layers import Conv2D, MaxPooling2D, Flatten, Dense, Dropout, Rescaling\n",
    "from sklearn.model_selection import train_test_split\n",
    "from sklearn.preprocessing import LabelEncoder\n",
    "from keras.utils import to_categorical\n",
    "from tensorflow.keras.utils import to_categorical\n",
    "from tensorflow.keras.preprocessing.image import ImageDataGenerator \n",
    "\n",
    "\n"
   ]
  },
  {
   "cell_type": "code",
   "execution_count": 14,
   "metadata": {},
   "outputs": [
    {
     "data": {
      "text/plain": [
       "numpy.ndarray"
      ]
     },
     "execution_count": 14,
     "metadata": {},
     "output_type": "execute_result"
    }
   ],
   "source": [
    "img = cv2.imread(\"PetImages/Dog/1616.jpg\")\n",
    "type(img)"
   ]
  },
  {
   "cell_type": "code",
   "execution_count": 15,
   "metadata": {},
   "outputs": [],
   "source": [
    "# path_cat = 'PetImages/Cat/'\n",
    "current_dir = os.getcwd()\n",
    "path_cat = 'PetImages/Cat/'\n",
    "path_dog = 'PetImages/Dog/'\n",
    "path_data = 'PetImages/'\n",
    "path_graycat = 'PetImages/Cat/Cat/'\n",
    "path_graydog = 'PetImages/Dog/Dog/'\n",
    "\n",
    "error_dogs = ['10158.jpg','10747.jpg','11410.jpg','11702.jpg','11853.jpg','1866.jpg','2688.jpg','3136.jpg','3588.jpg','5604.jpg','6059.jpg','6718.jpg','8133.jpg','7459.jpg','8730.jpg','10401.jpg','10797.jpg','11675.jpg','11849.jpg','1308.jpg','2384.jpg','2877.jpg','3288.jpg','4367.jpg','6238.jpg','7112.jpg','7369.jpg','7969.jpg','9188.jpg','7133.jpg','Thumbs.db']\n",
    "error_cats = ['10125.jpg','10501.jpg','11210.jpg','11874.jpg','140.jpg','3300.jpg','4833.jpg','660.jpg','7978.jpg','850.jpg','9565.jpg','10404.jpg','10820.jpg','11565.jpg','11935.jpg','2663.jpg','3491.jpg','5553.jpg','666.jpg','8470.jpg','9171.jpg','9778.jpg','936.jpg','7968.jpg','Thumbs.db']\n"
   ]
  },
  {
   "cell_type": "code",
   "execution_count": 16,
   "metadata": {},
   "outputs": [],
   "source": [
    "#część zdjęć ma mniejszy rozmiar niż te 100x100, które wpisuję w modelu. Poniżej znajduję takie zdjęcia, wrzucam je do list\n",
    "\n",
    "# min_width = float('inf')\n",
    "# min_height = float('inf')\n",
    "\n",
    "# def small_images_generator(folder_path):\n",
    "#     for filename in os.listdir(folder_path):\n",
    "#         image_path = os.path.join(folder_path, filename)\n",
    "#         try:\n",
    "#             image = Image.open(image_path)\n",
    "#             width, height = image.size\n",
    "#             if width < 100 or height < 100:\n",
    "#                 yield filename\n",
    "#         except (IOError, OSError):\n",
    "#                 print(f\"Nie można otworzyć pliku: {image_path}\")    \n",
    "\n",
    "# small_cats = []\n",
    "# small_dogs = []\n",
    "# for filename in small_images_generator(path_cat):\n",
    "#     small_cats.append(filename)\n",
    "\n",
    "# for filename in small_images_generator(path_dog):\n",
    "#     small_dogs.append(filename)\n",
    "\n",
    "# print(len(small_cats))\n",
    "# print(len(small_dogs))"
   ]
  },
  {
   "cell_type": "code",
   "execution_count": 17,
   "metadata": {},
   "outputs": [],
   "source": [
    "# zmieniamy kanał na RGM dla zdjęć, które miały inny kanał\n",
    "\n",
    "# for filename in os.listdir(path_dog):\n",
    "#     image_path = os.path.join(path_dog, filename)\n",
    "#     try:\n",
    "#         image = Image.open(image_path)\n",
    "#         if channels not in ['3']:\n",
    "#             image_rgb = image.convert(\"RGB\")\n",
    "#     except (IOError, OSError):\n",
    "#         print(f\"Nie można otworzyć pliku: {image_path}\")\n",
    "\n",
    "# for filename in os.listdir(path_cat):\n",
    "#     image_path = os.path.join(path_cat, filename)\n",
    "#     try:\n",
    "#         image = Image.open(image_path)\n",
    "#         if channels not in ['3']:\n",
    "#             image_rgb = image.convert(\"RGB\")\n",
    "#     except (IOError, OSError):\n",
    "#         print(f\"Nie można otworzyć pliku: {image_path}\")"
   ]
  },
  {
   "cell_type": "code",
   "execution_count": 18,
   "metadata": {},
   "outputs": [],
   "source": [
    "def removing_files(list_of_files_to_delete,folder_path):\n",
    "    for file in list_of_files_to_delete:\n",
    "        file = folder_path + file\n",
    "        try:\n",
    "            os.remove(file)\n",
    "            print(f\"Plik '{file}' usunięty\")\n",
    "        except FileNotFoundError:\n",
    "            print(f\"Nie znaleziono pliku '{file}'\")\n",
    "        except PermissionError:\n",
    "            print(f\"PermissionError: '{file}'.\")\n",
    "        except Exception as e:\n",
    "            print(f\"Exception: '{file}': {str(e)}\")"
   ]
  },
  {
   "cell_type": "code",
   "execution_count": 19,
   "metadata": {},
   "outputs": [],
   "source": [
    "# tutaj usuwam pliki z tych list: error_dogs, error_cats, small_cats, small_dogs,\n",
    "# dla każdej listy trzeba odpowiednio dobrać ścieżkę: path_cat, path_dog\n",
    "\n",
    "# removing_files(error_dogs,path_dog)\n",
    "# removing_files(small_dogs,path_dog)\n",
    "# removing_files(error_cats,path_cat)\n",
    "# removing_files(small_cats,path_cat)"
   ]
  },
  {
   "cell_type": "code",
   "execution_count": 20,
   "metadata": {},
   "outputs": [],
   "source": [
    "# poniższe pętle konwertują wszystkie zdjęcia na kanał 3 - 'RGB'. Miałem problemy z fitowaniem, więc chciałem się upewnić, że wszystko jest 'RGB'\n",
    "\n",
    "# for filename in os.listdir(path_dog):\n",
    "#     image_path = os.path.join(path_dog, filename)\n",
    "#     try:\n",
    "#         image = Image.open(image_path)\n",
    "#         image_gray = image.convert(\"RGB\")\n",
    "#         image_gray.save(image_path)\n",
    "#     except (IOError, OSError):\n",
    "#         print(f\"Nie można otworzyć pliku: {image_path}\")\n",
    "\n",
    "# for filename in os.listdir(path_cat):\n",
    "#     image_path = os.path.join(path_cat, filename)\n",
    "#     try:\n",
    "#         image = Image.open(image_path)\n",
    "#         image_gray = image.convert(\"RGB\")\n",
    "#         image_gray.save(image_path)\n",
    "#     except (IOError, OSError):\n",
    "#         print(f\"Nie można otworzyć pliku: {image_path}\")"
   ]
  },
  {
   "cell_type": "code",
   "execution_count": 21,
   "metadata": {},
   "outputs": [
    {
     "name": "stdout",
     "output_type": "stream",
     "text": [
      "Found 24776 files belonging to 2 classes.\n",
      "Using 19821 files for training.\n"
     ]
    }
   ],
   "source": [
    "train_ds = tf.keras.utils.image_dataset_from_directory(\n",
    "    path_data,\n",
    "    labels='inferred',\n",
    "    batch_size=32,\n",
    "    image_size=(100, 100),\n",
    "    validation_split=0.2,\n",
    "    subset = 'training',\n",
    "    seed=123,\n",
    "    # class_names=['Cat', 'Dog']\n",
    ")\n"
   ]
  },
  {
   "cell_type": "code",
   "execution_count": 22,
   "metadata": {},
   "outputs": [
    {
     "name": "stdout",
     "output_type": "stream",
     "text": [
      "Found 24776 files belonging to 2 classes.\n",
      "Using 4955 files for validation.\n"
     ]
    }
   ],
   "source": [
    "val_ds = tf.keras.utils.image_dataset_from_directory(\n",
    "    path_data,\n",
    "    labels='inferred',\n",
    "    batch_size=32,\n",
    "    image_size=(100, 100),\n",
    "    validation_split=0.2,\n",
    "    subset = 'validation',\n",
    "    seed=123,\n",
    "    # class_names=['Cat', 'Dog']\n",
    ")\n"
   ]
  },
  {
   "cell_type": "code",
   "execution_count": 23,
   "metadata": {},
   "outputs": [],
   "source": [
    "AUTOTUNE = tf.data.AUTOTUNE\n",
    "\n",
    "train_ds = train_ds.cache().shuffle(1000).prefetch(buffer_size=AUTOTUNE)\n",
    "val_ds = val_ds.cache().prefetch(buffer_size=AUTOTUNE)"
   ]
  },
  {
   "cell_type": "code",
   "execution_count": 24,
   "metadata": {},
   "outputs": [],
   "source": [
    "train_ds = train_ds.map(lambda x, y: (x, tf.one_hot(y, depth=2)))\n",
    "val_ds = val_ds.map(lambda x, y: (x, tf.one_hot(y, depth=2)))"
   ]
  },
  {
   "cell_type": "code",
   "execution_count": 25,
   "metadata": {},
   "outputs": [],
   "source": [
    "# data = []\n",
    "# labels = []"
   ]
  },
  {
   "cell_type": "code",
   "execution_count": 26,
   "metadata": {},
   "outputs": [],
   "source": [
    "# cat_images = os.listdir(path_cat)\n",
    "# for image_name in cat_images:\n",
    "#     try:\n",
    "#         image_path = os.path.join(path_cat, image_name)\n",
    "#         image = cv2.imread(image_path)\n",
    "#         image = cv2.resize(image, (150, 150))\n",
    "#         image = image.astype('float32') / 255.0\n",
    "#         data.append(image)\n",
    "#         labels.append('cat')\n",
    "#     except:\n",
    "#         pass\n"
   ]
  },
  {
   "cell_type": "code",
   "execution_count": 27,
   "metadata": {},
   "outputs": [],
   "source": [
    "# dog_images = os.listdir(path_dog)\n",
    "# for image_name in dog_images:\n",
    "#     try:\n",
    "#         image_path = os.path.join(path_dog, image_name)\n",
    "#         image = cv2.imread(image_path)\n",
    "#         image = cv2.resize(image, (150, 150))\n",
    "#         image = image.astype('float32') / 255.0\n",
    "#         data.append(image)\n",
    "#         labels.append('dog')\n",
    "#     except:\n",
    "#         pass\n"
   ]
  },
  {
   "cell_type": "code",
   "execution_count": 28,
   "metadata": {},
   "outputs": [],
   "source": [
    "\n",
    "model = Sequential()\n",
    "model.add(Rescaling(1./255, input_shape=(100, 100, 3)))\n",
    "model.add(Conv2D(16, 3, padding='same', activation='relu'))\n",
    "model.add(MaxPooling2D((2, 2)))\n",
    "model.add(Dropout(0.5))\n",
    "model.add(Conv2D(32, 3, padding='same', activation='relu'))\n",
    "model.add(MaxPooling2D((2, 2)))\n",
    "model.add(Dropout(0.5))\n",
    "model.add(Conv2D(64, 3, padding='same', activation='relu'))\n",
    "model.add(MaxPooling2D((2, 2)))\n",
    "\n",
    "model.add(Flatten())\n",
    "# Dodawanie warstw gęstych\n",
    "model.add(Dense(32, activation='relu'))\n",
    "model.add(Dropout(0.5))\n",
    "model.add(Dense(16, activation='relu'))\n",
    "model.add(Dense(2, activation='softmax'))  # Warstwa wyjściowa z dwoma neuronami (kot i pies)\n"
   ]
  },
  {
   "cell_type": "code",
   "execution_count": 29,
   "metadata": {},
   "outputs": [],
   "source": [
    "model.compile(optimizer='adam', loss='categorical_crossentropy', metrics=['accuracy'])\n"
   ]
  },
  {
   "cell_type": "code",
   "execution_count": 30,
   "metadata": {},
   "outputs": [
    {
     "name": "stdout",
     "output_type": "stream",
     "text": [
      "Model: \"sequential\"\n",
      "_________________________________________________________________\n",
      " Layer (type)                Output Shape              Param #   \n",
      "=================================================================\n",
      " rescaling (Rescaling)       (None, 100, 100, 3)       0         \n",
      "                                                                 \n",
      " conv2d (Conv2D)             (None, 100, 100, 16)      448       \n",
      "                                                                 \n",
      " max_pooling2d (MaxPooling2D  (None, 50, 50, 16)       0         \n",
      " )                                                               \n",
      "                                                                 \n",
      " dropout (Dropout)           (None, 50, 50, 16)        0         \n",
      "                                                                 \n",
      " conv2d_1 (Conv2D)           (None, 50, 50, 32)        4640      \n",
      "                                                                 \n",
      " max_pooling2d_1 (MaxPooling  (None, 25, 25, 32)       0         \n",
      " 2D)                                                             \n",
      "                                                                 \n",
      " dropout_1 (Dropout)         (None, 25, 25, 32)        0         \n",
      "                                                                 \n",
      " conv2d_2 (Conv2D)           (None, 25, 25, 64)        18496     \n",
      "                                                                 \n",
      " max_pooling2d_2 (MaxPooling  (None, 12, 12, 64)       0         \n",
      " 2D)                                                             \n",
      "                                                                 \n",
      " flatten (Flatten)           (None, 9216)              0         \n",
      "                                                                 \n",
      " dense (Dense)               (None, 32)                294944    \n",
      "                                                                 \n",
      " dropout_2 (Dropout)         (None, 32)                0         \n",
      "                                                                 \n",
      " dense_1 (Dense)             (None, 16)                528       \n",
      "                                                                 \n",
      " dense_2 (Dense)             (None, 2)                 34        \n",
      "                                                                 \n",
      "=================================================================\n",
      "Total params: 319,090\n",
      "Trainable params: 319,090\n",
      "Non-trainable params: 0\n",
      "_________________________________________________________________\n",
      "None\n"
     ]
    }
   ],
   "source": [
    "print(model.summary())"
   ]
  },
  {
   "cell_type": "code",
   "execution_count": 31,
   "metadata": {},
   "outputs": [],
   "source": [
    "# EarlyStopping - trzeba dodac w komórce niżej callback=es jesli chcemy go uzyc\n",
    "es = tf.keras.callbacks.EarlyStopping(\n",
    "    monitor=\"val_loss\",\n",
    "    min_delta=0.01,\n",
    "    patience=3\n",
    ")"
   ]
  },
  {
   "cell_type": "code",
   "execution_count": 32,
   "metadata": {},
   "outputs": [
    {
     "name": "stdout",
     "output_type": "stream",
     "text": [
      "Epoch 1/20\n",
      "620/620 [==============================] - 135s 206ms/step - loss: 0.6917 - accuracy: 0.5210 - val_loss: 0.6865 - val_accuracy: 0.4985\n",
      "Epoch 2/20\n",
      "620/620 [==============================] - 101s 164ms/step - loss: 0.6835 - accuracy: 0.5423 - val_loss: 0.6583 - val_accuracy: 0.6369\n",
      "Epoch 3/20\n",
      "620/620 [==============================] - 50s 81ms/step - loss: 0.6220 - accuracy: 0.6390 - val_loss: 0.5873 - val_accuracy: 0.7003\n",
      "Epoch 4/20\n",
      "620/620 [==============================] - 50s 81ms/step - loss: 0.5751 - accuracy: 0.6931 - val_loss: 0.5706 - val_accuracy: 0.6936\n",
      "Epoch 5/20\n",
      "620/620 [==============================] - 51s 82ms/step - loss: 0.5416 - accuracy: 0.7225 - val_loss: 0.5513 - val_accuracy: 0.7247\n",
      "Epoch 6/20\n",
      "620/620 [==============================] - 49s 80ms/step - loss: 0.5184 - accuracy: 0.7401 - val_loss: 0.5499 - val_accuracy: 0.7169\n",
      "Epoch 7/20\n",
      "620/620 [==============================] - 50s 80ms/step - loss: 0.4978 - accuracy: 0.7532 - val_loss: 0.5084 - val_accuracy: 0.7719\n",
      "Epoch 8/20\n",
      "620/620 [==============================] - 49s 80ms/step - loss: 0.4829 - accuracy: 0.7650 - val_loss: 0.5256 - val_accuracy: 0.7495\n",
      "Epoch 9/20\n",
      "620/620 [==============================] - 50s 80ms/step - loss: 0.4712 - accuracy: 0.7748 - val_loss: 0.5189 - val_accuracy: 0.7715\n",
      "Epoch 10/20\n",
      "620/620 [==============================] - 49s 80ms/step - loss: 0.4608 - accuracy: 0.7823 - val_loss: 0.5072 - val_accuracy: 0.7564\n"
     ]
    }
   ],
   "source": [
    "results = model.fit(train_ds, epochs=20, validation_data=val_ds)"
   ]
  },
  {
   "cell_type": "code",
   "execution_count": 33,
   "metadata": {},
   "outputs": [
    {
     "name": "stdout",
     "output_type": "stream",
     "text": [
      "155/155 [==============================] - 8s 48ms/step\n",
      "              precision    recall  f1-score   support\n",
      "\n",
      "         Dog       0.69      0.92      0.79      2429\n",
      "         Cat       0.88      0.60      0.72      2526\n",
      "\n",
      "    accuracy                           0.76      4955\n",
      "   macro avg       0.79      0.76      0.75      4955\n",
      "weighted avg       0.79      0.76      0.75      4955\n",
      "\n"
     ]
    }
   ],
   "source": [
    "# Generate predictions for the validation dataset\n",
    "y_pred = np.argmax(model.predict(val_ds), axis=1)\n",
    "\n",
    "# Get true labels for the validation dataset\n",
    "y_test = np.concatenate([y for x, y in val_ds], axis=0)\n",
    "y_test = np.argmax(y_test, axis=1)\n",
    "\n",
    "# Print the classification report\n",
    "print(classification_report(y_test, y_pred, target_names=[\"Dog\", \"Cat\"]))\n"
   ]
  },
  {
   "cell_type": "code",
   "execution_count": 34,
   "metadata": {},
   "outputs": [
    {
     "data": {
      "image/png": "[encoded data removed]",
      "text/plain": [
       "<Figure size 640x480 with 1 Axes>"
      ]
     },
     "metadata": {},
     "output_type": "display_data"
    }
   ],
   "source": [
    "plt.plot(results.history[\"loss\"])\n",
    "plt.plot(results.history[\"val_loss\"])\n",
    "plt.title(\"loss\")\n",
    "plt.show()"
   ]
  },
  {
   "cell_type": "code",
   "execution_count": 35,
   "metadata": {},
   "outputs": [
    {
     "data": {
      "image/png": "[encoded data removed]",
      "text/plain": [
       "<Figure size 640x480 with 1 Axes>"
      ]
     },
     "metadata": {},
     "output_type": "display_data"
    }
   ],
   "source": [
    "plt.plot(results.history[\"accuracy\"])\n",
    "plt.plot(results.history[\"val_accuracy\"])\n",
    "plt.title(\"accuracy\")\n",
    "plt.show()"
   ]
  }
 ],
 "metadata": {
  "kernelspec": {
   "display_name": "dl",
   "language": "python",
   "name": "python3"
  },
  "language_info": {
   "codemirror_mode": {
    "name": "ipython",
    "version": 3
   },
   "file_extension": ".py",
   "mimetype": "text/x-python",
   "name": "python",
   "nbconvert_exporter": "python",
   "pygments_lexer": "ipython3",
   "version": "3.9.16"
  },
  "orig_nbformat": 4
 },
 "nbformat": 4,
 "nbformat_minor": 2
}
