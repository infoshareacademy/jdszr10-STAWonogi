{
 "cells": [
  {
   "cell_type": "code",
   "execution_count": 1,
   "id": "5f2311ca",
   "metadata": {},
   "outputs": [],
   "source": [
    "import cv2\n",
    "import sys\n",
    "import os"
   ]
  },
  {
   "cell_type": "code",
   "execution_count": 2,
   "id": "4dde129b",
   "metadata": {},
   "outputs": [],
   "source": [
    "import os"
   ]
  },
  {
   "cell_type": "code",
   "execution_count": 3,
   "id": "e5e2ecbb",
   "metadata": {},
   "outputs": [
    {
     "name": "stdout",
     "output_type": "stream",
     "text": [
      "C:\\Users\\Woj-tek\\Desktop\\ISA\\pojekt_dl\n"
     ]
    }
   ],
   "source": [
    "print(os.getcwd())"
   ]
  },
  {
   "cell_type": "code",
   "execution_count": 4,
   "id": "dedb2bcf",
   "metadata": {},
   "outputs": [
    {
     "name": "stdout",
     "output_type": "stream",
     "text": [
      "['.ipynb_checkpoints', 'Cat', 'Cat1', 'Dog', 'Dog1', 'PetImages-checkpoint.ipynb', 'PetImages.ipynb', 'sebastian_wersja1-Copy1.ipynb', 'sebastian_wersja1.ipynb']\n"
     ]
    }
   ],
   "source": [
    "l = list(os.listdir())\n",
    "print(l)"
   ]
  },
  {
   "cell_type": "code",
   "execution_count": 5,
   "id": "a98bb259",
   "metadata": {},
   "outputs": [],
   "source": [
    "data = []\n",
    "labels = []"
   ]
  },
  {
   "cell_type": "code",
   "execution_count": 6,
   "id": "d018cd7a",
   "metadata": {},
   "outputs": [],
   "source": [
    "path_cat = 'Cat'\n",
    "path_dog = 'Dog'"
   ]
  },
  {
   "cell_type": "code",
   "execution_count": 7,
   "id": "35184a50",
   "metadata": {},
   "outputs": [],
   "source": [
    "cat_images = os.listdir(path_cat)\n",
    "for image_name in cat_images:\n",
    "    try:\n",
    "        image_path = os.path.join(path_cat, image_name)\n",
    "        image = cv2.imread(image_path)\n",
    "        image = cv2.resize(image, (150, 150))\n",
    "        image = image.astype('float32') / 255.0\n",
    "        data.append(image)\n",
    "        labels.append('cat')\n",
    "    except:\n",
    "        pass"
   ]
  },
  {
   "cell_type": "code",
   "execution_count": 8,
   "id": "c60beb0f",
   "metadata": {},
   "outputs": [],
   "source": [
    "dog_images = os.listdir(path_dog)\n",
    "for image_name in dog_images:\n",
    "    try:\n",
    "        image_path = os.path.join(path_dog, image_name)\n",
    "        image = cv2.imread(image_path)\n",
    "        image = cv2.resize(image, (150, 150))\n",
    "        image = image.astype('float32') / 255.0\n",
    "        data.append(image)\n",
    "        labels.append('dog')\n",
    "    except:\n",
    "        pass"
   ]
  },
  {
   "cell_type": "code",
   "execution_count": 9,
   "id": "0808d7a6",
   "metadata": {},
   "outputs": [],
   "source": [
    "import matplotlib.pyplot as plt\n",
    "from sklearn.metrics import classification_report\n",
    "from tensorflow.keras import layers\n",
    "import numpy as np\n",
    "import tensorflow as tf\n",
    "from tensorflow.keras.models import Sequential\n",
    "from tensorflow.keras.layers import Conv2D, MaxPooling2D, Flatten, Dense, Dropout\n",
    "from sklearn.model_selection import train_test_split\n",
    "from sklearn.preprocessing import LabelEncoder\n",
    "from keras.utils import to_categorical"
   ]
  },
  {
   "cell_type": "code",
   "execution_count": 10,
   "id": "a0ff2352",
   "metadata": {},
   "outputs": [],
   "source": [
    "label_encoder = LabelEncoder()\n",
    "labels = label_encoder.fit_transform(labels)"
   ]
  },
  {
   "cell_type": "code",
   "execution_count": 11,
   "id": "16279856",
   "metadata": {},
   "outputs": [],
   "source": [
    "X_train, X_test, y_train, y_test = train_test_split(data, labels, test_size=0.2, random_state=42)"
   ]
  },
  {
   "cell_type": "code",
   "execution_count": 12,
   "id": "ce0a0222",
   "metadata": {},
   "outputs": [],
   "source": [
    "X_train = np.array(X_train)\n",
    "X_test = np.array(X_test)\n",
    "y_train = to_categorical(y_train)\n",
    "y_test = to_categorical(y_test)"
   ]
  },
  {
   "cell_type": "code",
   "execution_count": 13,
   "id": "1093bf03",
   "metadata": {},
   "outputs": [
    {
     "name": "stdout",
     "output_type": "stream",
     "text": [
      "19956\n",
      "4990\n",
      "19956\n",
      "4990\n"
     ]
    }
   ],
   "source": [
    "print(len(X_train))\n",
    "print(len(X_test))\n",
    "print(len(y_train))\n",
    "print(len(y_test))"
   ]
  },
  {
   "cell_type": "code",
   "execution_count": 14,
   "id": "83242e25",
   "metadata": {},
   "outputs": [],
   "source": [
    "model = Sequential()\n",
    "model.add(Conv2D(32, (3, 3), activation='relu', input_shape=(150, 150, 3)))\n",
    "# model.add(MaxPooling2D((2, 2)))\n",
    "# model.add(Dropout(0.5))\n",
    "model.add(Conv2D(64, (3, 3), activation='relu'))\n",
    "# model.add(MaxPooling2D((2, 2)))\n",
    "# model.add(Dropout(0.5))\n",
    "model.add(Conv2D(128, (3, 3), activation='relu'))\n",
    "# model.add(MaxPooling2D((2, 2)))\n",
    "\n",
    "model.add(Flatten())"
   ]
  },
  {
   "cell_type": "code",
   "execution_count": 15,
   "id": "ff7a0d76",
   "metadata": {},
   "outputs": [],
   "source": [
    "# Dodawanie warstw gęstych\n",
    "model.add(Dense(64, activation='relu'))\n",
    "# model.add(Dropout(0.5))\n",
    "model.add(Dense(32, activation='relu'))\n",
    "model.add(Dense(2, activation='softmax'))  # Warstwa wyjściowa z dwoma neuronami (kot i pies)"
   ]
  },
  {
   "cell_type": "code",
   "execution_count": 16,
   "id": "9af4ed58",
   "metadata": {},
   "outputs": [],
   "source": [
    "model.compile(optimizer='adam', loss='categorical_crossentropy', metrics=['accuracy'])"
   ]
  },
  {
   "cell_type": "code",
   "execution_count": 17,
   "id": "499973d6",
   "metadata": {},
   "outputs": [
    {
     "name": "stdout",
     "output_type": "stream",
     "text": [
      "Model: \"sequential\"\n",
      "_________________________________________________________________\n",
      " Layer (type)                Output Shape              Param #   \n",
      "=================================================================\n",
      " conv2d (Conv2D)             (None, 148, 148, 32)      896       \n",
      "                                                                 \n",
      " conv2d_1 (Conv2D)           (None, 146, 146, 64)      18496     \n",
      "                                                                 \n",
      " conv2d_2 (Conv2D)           (None, 144, 144, 128)     73856     \n",
      "                                                                 \n",
      " flatten (Flatten)           (None, 2654208)           0         \n",
      "                                                                 \n",
      " dense (Dense)               (None, 64)                169869376 \n",
      "                                                                 \n",
      " dense_1 (Dense)             (None, 32)                2080      \n",
      "                                                                 \n",
      " dense_2 (Dense)             (None, 2)                 66        \n",
      "                                                                 \n",
      "=================================================================\n",
      "Total params: 169,964,770\n",
      "Trainable params: 169,964,770\n",
      "Non-trainable params: 0\n",
      "_________________________________________________________________\n",
      "None\n"
     ]
    }
   ],
   "source": [
    "print(model.summary())"
   ]
  },
  {
   "cell_type": "code",
   "execution_count": 18,
   "id": "ae567dd2",
   "metadata": {},
   "outputs": [
    {
     "name": "stdout",
     "output_type": "stream",
     "text": [
      "Epoch 1/20\n",
      "624/624 [==============================] - 2784s 4s/step - loss: 0.6757 - accuracy: 0.6403 - val_loss: 0.6065 - val_accuracy: 0.6741\n",
      "Epoch 2/20\n",
      "624/624 [==============================] - 2667s 4s/step - loss: 0.5041 - accuracy: 0.7545 - val_loss: 0.5080 - val_accuracy: 0.7495\n",
      "Epoch 3/20\n",
      "624/624 [==============================] - 2548s 4s/step - loss: 0.3213 - accuracy: 0.8602 - val_loss: 0.5859 - val_accuracy: 0.7529\n",
      "Epoch 4/20\n",
      "624/624 [==============================] - 2539s 4s/step - loss: 0.1323 - accuracy: 0.9496 - val_loss: 0.9248 - val_accuracy: 0.7339\n",
      "Epoch 5/20\n",
      "624/624 [==============================] - 2527s 4s/step - loss: 0.0548 - accuracy: 0.9821 - val_loss: 1.1118 - val_accuracy: 0.7353\n",
      "Epoch 6/20\n",
      "624/624 [==============================] - 2537s 4s/step - loss: 0.0301 - accuracy: 0.9898 - val_loss: 1.6100 - val_accuracy: 0.7311\n",
      "Epoch 7/20\n",
      "624/624 [==============================] - 2544s 4s/step - loss: 0.0291 - accuracy: 0.9908 - val_loss: 1.6668 - val_accuracy: 0.7210\n",
      "Epoch 8/20\n",
      "624/624 [==============================] - 2542s 4s/step - loss: 0.0188 - accuracy: 0.9945 - val_loss: 2.0070 - val_accuracy: 0.7369\n",
      "Epoch 9/20\n",
      "624/624 [==============================] - 2538s 4s/step - loss: 0.0285 - accuracy: 0.9917 - val_loss: 1.6098 - val_accuracy: 0.7214\n",
      "Epoch 10/20\n",
      "624/624 [==============================] - 2538s 4s/step - loss: 0.0322 - accuracy: 0.9914 - val_loss: 1.9155 - val_accuracy: 0.7234\n",
      "Epoch 11/20\n",
      "624/624 [==============================] - 2525s 4s/step - loss: 0.0137 - accuracy: 0.9960 - val_loss: 2.5387 - val_accuracy: 0.7162\n",
      "Epoch 12/20\n",
      "624/624 [==============================] - 2561s 4s/step - loss: 0.0185 - accuracy: 0.9948 - val_loss: 1.9821 - val_accuracy: 0.7339\n",
      "Epoch 13/20\n",
      "624/624 [==============================] - 2593s 4s/step - loss: 0.0167 - accuracy: 0.9954 - val_loss: 2.0202 - val_accuracy: 0.7281\n",
      "Epoch 14/20\n",
      "624/624 [==============================] - 2600s 4s/step - loss: 0.0088 - accuracy: 0.9975 - val_loss: 2.5915 - val_accuracy: 0.7018\n",
      "Epoch 15/20\n",
      "624/624 [==============================] - 2600s 4s/step - loss: 0.0142 - accuracy: 0.9964 - val_loss: 2.3944 - val_accuracy: 0.7295\n",
      "Epoch 16/20\n",
      "624/624 [==============================] - 2604s 4s/step - loss: 0.0074 - accuracy: 0.9981 - val_loss: 2.4321 - val_accuracy: 0.7317\n",
      "Epoch 17/20\n",
      "624/624 [==============================] - 2614s 4s/step - loss: 0.0133 - accuracy: 0.9958 - val_loss: 2.7444 - val_accuracy: 0.7078\n",
      "Epoch 18/20\n",
      "624/624 [==============================] - 2613s 4s/step - loss: 0.0209 - accuracy: 0.9945 - val_loss: 2.4464 - val_accuracy: 0.7132\n",
      "Epoch 19/20\n",
      "624/624 [==============================] - 2612s 4s/step - loss: 0.0107 - accuracy: 0.9972 - val_loss: 2.2214 - val_accuracy: 0.7100\n",
      "Epoch 20/20\n",
      "624/624 [==============================] - 2626s 4s/step - loss: 0.0026 - accuracy: 0.9994 - val_loss: 2.3927 - val_accuracy: 0.7283\n"
     ]
    }
   ],
   "source": [
    "results = model.fit(X_train, y_train, epochs=20, batch_size=32, validation_data=(X_test, y_test))"
   ]
  },
  {
   "cell_type": "code",
   "execution_count": 19,
   "id": "9a81ee07",
   "metadata": {},
   "outputs": [
    {
     "name": "stdout",
     "output_type": "stream",
     "text": [
      "156/156 [==============================] - 116s 743ms/step\n",
      "              precision    recall  f1-score   support\n",
      "\n",
      "           0       0.74      0.72      0.73      2547\n",
      "           1       0.72      0.73      0.73      2443\n",
      "\n",
      "    accuracy                           0.73      4990\n",
      "   macro avg       0.73      0.73      0.73      4990\n",
      "weighted avg       0.73      0.73      0.73      4990\n",
      "\n"
     ]
    }
   ],
   "source": [
    "print(classification_report(y_test.argmax(axis=1), model.predict(X_test).argmax(axis=1)))"
   ]
  },
  {
   "cell_type": "code",
   "execution_count": 20,
   "id": "c099352d",
   "metadata": {},
   "outputs": [
    {
     "data": {
      "image/png": "[encoded data removed]",
      "text/plain": [
       "<Figure size 640x480 with 1 Axes>"
      ]
     },
     "metadata": {},
     "output_type": "display_data"
    }
   ],
   "source": [
    "plt.plot(results.history[\"loss\"])\n",
    "plt.title(\"loss\")\n",
    "plt.show()"
   ]
  },
  {
   "cell_type": "code",
   "execution_count": 21,
   "id": "4dca2391",
   "metadata": {},
   "outputs": [
    {
     "data": {
      "image/png": "[encoded data removed]",
      "text/plain": [
       "<Figure size 640x480 with 1 Axes>"
      ]
     },
     "metadata": {},
     "output_type": "display_data"
    }
   ],
   "source": [
    "plt.plot(results.history[\"accuracy\"])\n",
    "plt.title(\"accuracy\")\n",
    "plt.show()"
   ]
  },
  {
   "cell_type": "code",
   "execution_count": null,
   "id": "4d64adf0",
   "metadata": {},
   "outputs": [],
   "source": []
  }
 ],
 "metadata": {
  "kernelspec": {
   "display_name": "Python 3 (ipykernel)",
   "language": "python",
   "name": "python3"
  },
  "language_info": {
   "codemirror_mode": {
    "name": "ipython",
    "version": 3
   },
   "file_extension": ".py",
   "mimetype": "text/x-python",
   "name": "python",
   "nbconvert_exporter": "python",
   "pygments_lexer": "ipython3",
   "version": "3.9.13"
  }
 },
 "nbformat": 4,
 "nbformat_minor": 5
}
