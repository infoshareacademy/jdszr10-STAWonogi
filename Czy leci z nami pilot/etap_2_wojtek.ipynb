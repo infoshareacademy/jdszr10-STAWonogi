{
 "cells": [
  {
   "cell_type": "code",
   "execution_count": 1,
   "metadata": {},
   "outputs": [],
   "source": [
    "import pandas as pd\n",
    "import numpy as np\n",
    "import matplotlib.pyplot as plt\n",
    "import seaborn as sns\n",
    "\n",
    "from sklearn.ensemble import RandomForestClassifier, RandomForestRegressor\n",
    "from sklearn.model_selection import train_test_split\n",
    "\n",
    "import xgboost as xgb\n",
    "\n"
   ]
  },
  {
   "cell_type": "code",
   "execution_count": 2,
   "metadata": {},
   "outputs": [
    {
     "name": "stderr",
     "output_type": "stream",
     "text": [
      "C:\\Users\\Woj-tek\\AppData\\Local\\Temp\\ipykernel_111408\\713402779.py:1: DtypeWarning: Columns (28) have mixed types. Specify dtype option on import or set low_memory=False.\n",
      "  df = pd.read_csv(\"AviationData.csv\", usecols = ['Event.Id','Investigation.Type','Event.Date', 'Location','Aircraft.damage','Make','Model','Engine.Type','Number.of.Engines','Purpose.of.flight','Weather.Condition','Broad.phase.of.flight','Injury.Severity','Total.Fatal.Injuries'], parse_dates = ['Event.Date'], encoding = \"ISO-8859-1\")\n"
     ]
    }
   ],
   "source": [
    "df = pd.read_csv(\"AviationData.csv\", usecols = ['Event.Id','Investigation.Type','Event.Date', 'Location','Aircraft.damage','Make','Model','Engine.Type','Number.of.Engines','Purpose.of.flight','Weather.Condition','Broad.phase.of.flight','Injury.Severity','Total.Fatal.Injuries'], parse_dates = ['Event.Date'], encoding = \"ISO-8859-1\")"
   ]
  },
  {
   "cell_type": "code",
   "execution_count": 3,
   "metadata": {},
   "outputs": [
    {
     "name": "stderr",
     "output_type": "stream",
     "text": [
      "C:\\Users\\Woj-tek\\AppData\\Local\\Temp\\ipykernel_111408\\850482051.py:14: FutureWarning: The default value of regex will change from True to False in a future version.\n",
      "  df['Injury.Severity'] = df['Injury.Severity'].str.replace('Fatal.*', 'Fatal')\n"
     ]
    }
   ],
   "source": [
    "# z kolumny 'Event.Date' wyciągamy do osobnych kolumn rok, miesiąc i dzień\n",
    "df['Year'] = df['Event.Date'].dt.year\n",
    "df['Month'] = df['Event.Date'].dt.month_name()\n",
    "df['Day'] = df['Event.Date'].dt.day_name()\n",
    "\n",
    "# z kolumny 'Location' wyciągamy do osbnych kolumn miasto i stan\n",
    "df['City'] = df['Location'].str.split(',').str[0]\n",
    "df['State'] = df['Location'].str.split(',').str[1]\n",
    "\n",
    "# 'Unk' i 'UNK' zamieniamy na jedną wartość 'Unknown'\n",
    "df['Weather.Condition'].replace(to_replace = ['Unk', 'UNK'], value = 'Unknown', inplace = True)\n",
    "\n",
    "# wartości np. Fatal(1), Fatal(123) zamieniamy na jedną wartość 'Fatal'\n",
    "df['Injury.Severity'] = df['Injury.Severity'].str.replace('Fatal.*', 'Fatal')\n",
    "\n",
    "# puste wartości uzupełniamy najczęściej występującymi wartościami w danej kolumnie\n",
    "df['Purpose.of.flight'] = df['Purpose.of.flight'].fillna(df['Purpose.of.flight'].mode()[0])\n",
    "df['Weather.Condition'] = df['Weather.Condition'].fillna(df['Weather.Condition'].mode()[0])\n",
    "df['Engine.Type'] = df['Engine.Type'].fillna(df['Engine.Type'].mode()[0])\n",
    "df['Model'] = df['Model'].fillna(df['Model'].mode()[0])\n",
    "\n",
    "# w kolumnie number.of.Engines średnia oraz mediana jest podabna, wiec uzupełniam puste wartosci medianą\n",
    "df['Number.of.Engines'].fillna(df['Number.of.Engines'].median(), inplace=True)"
   ]
  },
  {
   "cell_type": "code",
   "execution_count": 4,
   "metadata": {},
   "outputs": [
    {
     "data": {
      "text/plain": [
       "\"\\ndf['Injury.Severity'] = df['Injury.Severity'].fillna('Unavailable')\\ndf['Aircraft.damage'] = df['Aircraft.damage'].fillna('Unknown')\\ndf['Weather.Condition'] = df['Weather.Condition'].fillna('Unknown')\\ndf['Broad.phase.of.flight'] = df['Broad.phase.of.flight'].fillna('Unknown')\\ndf['Make'] = df['Make'].fillna('Unknown')\\n\""
      ]
     },
     "execution_count": 4,
     "metadata": {},
     "output_type": "execute_result"
    }
   ],
   "source": [
    "# poniższy kod zamienia wszystkie wartości NaN na 'Unavailable' albo 'Unknown' dla kolumn gdzie już takie wartości występują. \n",
    "# Dzięki temu po późniejszym zastosowaniu df.dropna() zamiast 50k rekordów zostaje aż 77k. \n",
    "# Pytanie tylko czy wartości 'Unknown' w modelu mają jakikolwiek sens i czy nie lepiej faktycznie zredukować dane do tych 50k.\n",
    "'''\n",
    "df['Injury.Severity'] = df['Injury.Severity'].fillna('Unavailable')\n",
    "df['Aircraft.damage'] = df['Aircraft.damage'].fillna('Unknown')\n",
    "df['Weather.Condition'] = df['Weather.Condition'].fillna('Unknown')\n",
    "df['Broad.phase.of.flight'] = df['Broad.phase.of.flight'].fillna('Unknown')\n",
    "df['Make'] = df['Make'].fillna('Unknown')\n",
    "'''"
   ]
  },
  {
   "cell_type": "code",
   "execution_count": 5,
   "metadata": {},
   "outputs": [],
   "source": [
    "df = df.dropna()"
   ]
  },
  {
   "cell_type": "code",
   "execution_count": 6,
   "metadata": {},
   "outputs": [
    {
     "data": {
      "text/plain": [
       "Index(['Event.Id', 'Investigation.Type', 'Event.Date', 'Location',\n",
       "       'Injury.Severity', 'Aircraft.damage', 'Make', 'Model',\n",
       "       'Number.of.Engines', 'Engine.Type', 'Purpose.of.flight',\n",
       "       'Total.Fatal.Injuries', 'Weather.Condition', 'Broad.phase.of.flight',\n",
       "       'Year', 'Month', 'Day', 'City', 'State'],\n",
       "      dtype='object')"
      ]
     },
     "execution_count": 6,
     "metadata": {},
     "output_type": "execute_result"
    }
   ],
   "source": [
    "df.columns"
   ]
  },
  {
   "cell_type": "code",
   "execution_count": 7,
   "metadata": {},
   "outputs": [],
   "source": [
    "df = df[['Number.of.Engines', 'Engine.Type', 'Purpose.of.flight', 'Weather.Condition', 'Broad.phase.of.flight','Month']]"
   ]
  },
  {
   "cell_type": "code",
   "execution_count": 8,
   "metadata": {},
   "outputs": [
    {
     "name": "stdout",
     "output_type": "stream",
     "text": [
      "<class 'pandas.core.frame.DataFrame'>\n",
      "Int64Index: 49498 entries, 0 to 63909\n",
      "Data columns (total 6 columns):\n",
      " #   Column                 Non-Null Count  Dtype  \n",
      "---  ------                 --------------  -----  \n",
      " 0   Number.of.Engines      49498 non-null  float64\n",
      " 1   Engine.Type            49498 non-null  object \n",
      " 2   Purpose.of.flight      49498 non-null  object \n",
      " 3   Weather.Condition      49498 non-null  object \n",
      " 4   Broad.phase.of.flight  49498 non-null  object \n",
      " 5   Month                  49498 non-null  object \n",
      "dtypes: float64(1), object(5)\n",
      "memory usage: 2.6+ MB\n"
     ]
    }
   ],
   "source": [
    "df.info()"
   ]
  },
  {
   "cell_type": "code",
   "execution_count": 9,
   "metadata": {},
   "outputs": [
    {
     "data": {
      "text/html": [
       "<div>\n",
       "<style scoped>\n",
       "    .dataframe tbody tr th:only-of-type {\n",
       "        vertical-align: middle;\n",
       "    }\n",
       "\n",
       "    .dataframe tbody tr th {\n",
       "        vertical-align: top;\n",
       "    }\n",
       "\n",
       "    .dataframe thead th {\n",
       "        text-align: right;\n",
       "    }\n",
       "</style>\n",
       "<table border=\"1\" class=\"dataframe\">\n",
       "  <thead>\n",
       "    <tr style=\"text-align: right;\">\n",
       "      <th></th>\n",
       "      <th>count</th>\n",
       "      <th>min</th>\n",
       "      <th>max</th>\n",
       "      <th>mean</th>\n",
       "      <th>sum</th>\n",
       "    </tr>\n",
       "    <tr>\n",
       "      <th>Broad.phase.of.flight</th>\n",
       "      <th></th>\n",
       "      <th></th>\n",
       "      <th></th>\n",
       "      <th></th>\n",
       "      <th></th>\n",
       "    </tr>\n",
       "  </thead>\n",
       "  <tbody>\n",
       "    <tr>\n",
       "      <th>Approach</th>\n",
       "      <td>5415</td>\n",
       "      <td>0.0</td>\n",
       "      <td>4.0</td>\n",
       "      <td>1.189104</td>\n",
       "      <td>6439.0</td>\n",
       "    </tr>\n",
       "    <tr>\n",
       "      <th>Climb</th>\n",
       "      <td>1649</td>\n",
       "      <td>0.0</td>\n",
       "      <td>4.0</td>\n",
       "      <td>1.220740</td>\n",
       "      <td>2013.0</td>\n",
       "    </tr>\n",
       "    <tr>\n",
       "      <th>Cruise</th>\n",
       "      <td>8391</td>\n",
       "      <td>0.0</td>\n",
       "      <td>4.0</td>\n",
       "      <td>1.121201</td>\n",
       "      <td>9408.0</td>\n",
       "    </tr>\n",
       "    <tr>\n",
       "      <th>Descent</th>\n",
       "      <td>1454</td>\n",
       "      <td>0.0</td>\n",
       "      <td>4.0</td>\n",
       "      <td>1.154746</td>\n",
       "      <td>1679.0</td>\n",
       "    </tr>\n",
       "    <tr>\n",
       "      <th>Go-around</th>\n",
       "      <td>1116</td>\n",
       "      <td>1.0</td>\n",
       "      <td>4.0</td>\n",
       "      <td>1.147849</td>\n",
       "      <td>1281.0</td>\n",
       "    </tr>\n",
       "    <tr>\n",
       "      <th>Landing</th>\n",
       "      <td>11614</td>\n",
       "      <td>0.0</td>\n",
       "      <td>4.0</td>\n",
       "      <td>1.132512</td>\n",
       "      <td>13153.0</td>\n",
       "    </tr>\n",
       "    <tr>\n",
       "      <th>Maneuvering</th>\n",
       "      <td>7104</td>\n",
       "      <td>0.0</td>\n",
       "      <td>4.0</td>\n",
       "      <td>1.043215</td>\n",
       "      <td>7411.0</td>\n",
       "    </tr>\n",
       "    <tr>\n",
       "      <th>Other</th>\n",
       "      <td>96</td>\n",
       "      <td>0.0</td>\n",
       "      <td>4.0</td>\n",
       "      <td>1.125000</td>\n",
       "      <td>108.0</td>\n",
       "    </tr>\n",
       "    <tr>\n",
       "      <th>Standing</th>\n",
       "      <td>553</td>\n",
       "      <td>0.0</td>\n",
       "      <td>4.0</td>\n",
       "      <td>1.339964</td>\n",
       "      <td>741.0</td>\n",
       "    </tr>\n",
       "    <tr>\n",
       "      <th>Takeoff</th>\n",
       "      <td>10193</td>\n",
       "      <td>0.0</td>\n",
       "      <td>4.0</td>\n",
       "      <td>1.126067</td>\n",
       "      <td>11478.0</td>\n",
       "    </tr>\n",
       "    <tr>\n",
       "      <th>Taxi</th>\n",
       "      <td>1433</td>\n",
       "      <td>1.0</td>\n",
       "      <td>4.0</td>\n",
       "      <td>1.325192</td>\n",
       "      <td>1899.0</td>\n",
       "    </tr>\n",
       "    <tr>\n",
       "      <th>Unknown</th>\n",
       "      <td>480</td>\n",
       "      <td>0.0</td>\n",
       "      <td>4.0</td>\n",
       "      <td>1.133333</td>\n",
       "      <td>544.0</td>\n",
       "    </tr>\n",
       "  </tbody>\n",
       "</table>\n",
       "</div>"
      ],
      "text/plain": [
       "                       count  min  max      mean      sum\n",
       "Broad.phase.of.flight                                    \n",
       "Approach                5415  0.0  4.0  1.189104   6439.0\n",
       "Climb                   1649  0.0  4.0  1.220740   2013.0\n",
       "Cruise                  8391  0.0  4.0  1.121201   9408.0\n",
       "Descent                 1454  0.0  4.0  1.154746   1679.0\n",
       "Go-around               1116  1.0  4.0  1.147849   1281.0\n",
       "Landing                11614  0.0  4.0  1.132512  13153.0\n",
       "Maneuvering             7104  0.0  4.0  1.043215   7411.0\n",
       "Other                     96  0.0  4.0  1.125000    108.0\n",
       "Standing                 553  0.0  4.0  1.339964    741.0\n",
       "Takeoff                10193  0.0  4.0  1.126067  11478.0\n",
       "Taxi                    1433  1.0  4.0  1.325192   1899.0\n",
       "Unknown                  480  0.0  4.0  1.133333    544.0"
      ]
     },
     "execution_count": 9,
     "metadata": {},
     "output_type": "execute_result"
    }
   ],
   "source": [
    "df.groupby('Broad.phase.of.flight')['Number.of.Engines'].agg(['count', 'min', 'max', 'mean', 'sum'])"
   ]
  },
  {
   "cell_type": "code",
   "execution_count": 10,
   "metadata": {},
   "outputs": [
    {
     "data": {
      "image/png": "[encoded data removed]",
      "text/plain": [
       "<Figure size 800x400 with 1 Axes>"
      ]
     },
     "metadata": {},
     "output_type": "display_data"
    }
   ],
   "source": [
    "phase_flight_grouped= df.groupby(\"Broad.phase.of.flight\").sum('Number.of.Engines').reset_index().sort_values(by='Number.of.Engines',ascending=False)\n",
    "\n",
    "plt.figure(figsize=(8,4))\n",
    "sns.barplot(data = phase_flight_grouped, x = phase_flight_grouped['Broad.phase.of.flight'],y= phase_flight_grouped['Number.of.Engines'], estimator = sum)\n",
    "plt.xticks(rotation=90)\n",
    "plt.show()"
   ]
  },
  {
   "cell_type": "markdown",
   "metadata": {},
   "source": [
    "plt.figure(figsize=(8,4))\n",
    "df['State'].str.upper().value_counts().sort_values(ascending=False)[:10].plot(kind='bar', color='Blue')\n",
    "plt.xticks(rotation=90)\n",
    "plt.xlabel(\"State\", size=15)\n",
    "plt.ylabel(\"Total.Accidents\", size=15)\n",
    "plt.title(\"Top 10 States\", size=20)\n",
    "plt.show()"
   ]
  },
  {
   "cell_type": "markdown",
   "metadata": {},
   "source": [
    "plt.figure(figsize=(8,4))\n",
    "df['Make'].str.upper().value_counts().sort_values(ascending=False)[:10].plot(kind='bar', color='Blue')\n",
    "plt.xticks(rotation=90)\n",
    "plt.xlabel(\"Make\", size=15)\n",
    "plt.ylabel(\"Total.Accidents\", size=15)\n",
    "plt.title(\"Top 10 Plane Makes\", size=20)\n",
    "plt.show()"
   ]
  },
  {
   "cell_type": "code",
   "execution_count": 11,
   "metadata": {},
   "outputs": [
    {
     "data": {
      "image/png": "[encoded data removed]",
      "text/plain": [
       "<Figure size 800x400 with 1 Axes>"
      ]
     },
     "metadata": {},
     "output_type": "display_data"
    }
   ],
   "source": [
    "plt.figure(figsize=(8,4))\n",
    "df['Weather.Condition'].str.upper().value_counts().sort_values(ascending=False)[:10].plot(kind='bar', color='Blue')\n",
    "plt.xlabel(\"Weather.Condition\", size=15)\n",
    "plt.ylabel(\"Number of accidents\", size=15)\n",
    "plt.title(\"Weather condition\", size=20)\n",
    "plt.show()"
   ]
  },
  {
   "cell_type": "code",
   "execution_count": 12,
   "metadata": {},
   "outputs": [
    {
     "data": {
      "image/png": "[encoded data removed]",
      "text/plain": [
       "<Figure size 800x400 with 1 Axes>"
      ]
     },
     "metadata": {},
     "output_type": "display_data"
    }
   ],
   "source": [
    "plt.figure(figsize = (8,4))\n",
    "ax = sns.lineplot(data = df, x = df['Month'], y= df['Number.of.Engines'],estimator=sum)\n",
    "plt.show()"
   ]
  },
  {
   "cell_type": "code",
   "execution_count": 13,
   "metadata": {},
   "outputs": [],
   "source": [
    "#sns.barplot(data=df,x='Weather.Condition',y='Total.Fatal.Injuries',estimator=sum)"
   ]
  },
  {
   "cell_type": "code",
   "execution_count": 14,
   "metadata": {},
   "outputs": [],
   "source": [
    "#sns.barplot(data = df,x=df['Purpose.of.flight'],y=df['Total.Fatal.Injuries'],estimator=sum)\n",
    "#plt.xticks(rotation=90);"
   ]
  },
  {
   "cell_type": "code",
   "execution_count": 15,
   "metadata": {},
   "outputs": [
    {
     "data": {
      "text/html": [
       "<div>\n",
       "<style scoped>\n",
       "    .dataframe tbody tr th:only-of-type {\n",
       "        vertical-align: middle;\n",
       "    }\n",
       "\n",
       "    .dataframe tbody tr th {\n",
       "        vertical-align: top;\n",
       "    }\n",
       "\n",
       "    .dataframe thead th {\n",
       "        text-align: right;\n",
       "    }\n",
       "</style>\n",
       "<table border=\"1\" class=\"dataframe\">\n",
       "  <thead>\n",
       "    <tr style=\"text-align: right;\">\n",
       "      <th></th>\n",
       "      <th>Number.of.Engines</th>\n",
       "    </tr>\n",
       "  </thead>\n",
       "  <tbody>\n",
       "    <tr>\n",
       "      <th>count</th>\n",
       "      <td>49498.000000</td>\n",
       "    </tr>\n",
       "    <tr>\n",
       "      <th>mean</th>\n",
       "      <td>1.134470</td>\n",
       "    </tr>\n",
       "    <tr>\n",
       "      <th>std</th>\n",
       "      <td>0.410456</td>\n",
       "    </tr>\n",
       "    <tr>\n",
       "      <th>min</th>\n",
       "      <td>0.000000</td>\n",
       "    </tr>\n",
       "    <tr>\n",
       "      <th>25%</th>\n",
       "      <td>1.000000</td>\n",
       "    </tr>\n",
       "    <tr>\n",
       "      <th>50%</th>\n",
       "      <td>1.000000</td>\n",
       "    </tr>\n",
       "    <tr>\n",
       "      <th>75%</th>\n",
       "      <td>1.000000</td>\n",
       "    </tr>\n",
       "    <tr>\n",
       "      <th>max</th>\n",
       "      <td>4.000000</td>\n",
       "    </tr>\n",
       "  </tbody>\n",
       "</table>\n",
       "</div>"
      ],
      "text/plain": [
       "       Number.of.Engines\n",
       "count       49498.000000\n",
       "mean            1.134470\n",
       "std             0.410456\n",
       "min             0.000000\n",
       "25%             1.000000\n",
       "50%             1.000000\n",
       "75%             1.000000\n",
       "max             4.000000"
      ]
     },
     "execution_count": 15,
     "metadata": {},
     "output_type": "execute_result"
    }
   ],
   "source": [
    "df.describe()"
   ]
  },
  {
   "cell_type": "code",
   "execution_count": 16,
   "metadata": {},
   "outputs": [],
   "source": [
    "df = df.reset_index()"
   ]
  },
  {
   "cell_type": "markdown",
   "metadata": {},
   "source": [
    "___"
   ]
  },
  {
   "cell_type": "code",
   "execution_count": 17,
   "metadata": {},
   "outputs": [],
   "source": [
    "#df['Total.Fatal.Injuries_encoded'] = df['Total.Fatal.Injuries'].where(df['Total.Fatal.Injuries'] ==0, other=1)"
   ]
  },
  {
   "cell_type": "code",
   "execution_count": 18,
   "metadata": {},
   "outputs": [],
   "source": [
    "df_X = df[['Number.of.Engines', 'Engine.Type', 'Purpose.of.flight', 'Weather.Condition', 'Broad.phase.of.flight','Month']]"
   ]
  },
  {
   "cell_type": "code",
   "execution_count": 19,
   "metadata": {},
   "outputs": [
    {
     "name": "stdout",
     "output_type": "stream",
     "text": [
      "Number.of.Engines 5\n",
      "Engine.Type 6\n",
      "Purpose.of.flight 21\n",
      "Weather.Condition 3\n",
      "Broad.phase.of.flight 12\n",
      "Month 12\n"
     ]
    }
   ],
   "source": [
    "lista_kolumn_X = list(df_X.columns)\n",
    "\n",
    "for i in lista_kolumn_X:\n",
    "    print(i, df_X[i].value_counts().count())"
   ]
  },
  {
   "cell_type": "code",
   "execution_count": 20,
   "metadata": {},
   "outputs": [],
   "source": [
    "df_X_get_dummies = pd.get_dummies(df_X)"
   ]
  },
  {
   "cell_type": "code",
   "execution_count": 21,
   "metadata": {},
   "outputs": [
    {
     "name": "stdout",
     "output_type": "stream",
     "text": [
      "<class 'pandas.core.frame.DataFrame'>\n",
      "RangeIndex: 49498 entries, 0 to 49497\n",
      "Data columns (total 55 columns):\n",
      " #   Column                                       Non-Null Count  Dtype  \n",
      "---  ------                                       --------------  -----  \n",
      " 0   Number.of.Engines                            49498 non-null  float64\n",
      " 1   Engine.Type_Reciprocating                    49498 non-null  uint8  \n",
      " 2   Engine.Type_Turbo Fan                        49498 non-null  uint8  \n",
      " 3   Engine.Type_Turbo Jet                        49498 non-null  uint8  \n",
      " 4   Engine.Type_Turbo Prop                       49498 non-null  uint8  \n",
      " 5   Engine.Type_Turbo Shaft                      49498 non-null  uint8  \n",
      " 6   Engine.Type_Unknown                          49498 non-null  uint8  \n",
      " 7   Purpose.of.flight_Aerial Application         49498 non-null  uint8  \n",
      " 8   Purpose.of.flight_Aerial Observation         49498 non-null  uint8  \n",
      " 9   Purpose.of.flight_Air Drop                   49498 non-null  uint8  \n",
      " 10  Purpose.of.flight_Air Race/show              49498 non-null  uint8  \n",
      " 11  Purpose.of.flight_Banner Tow                 49498 non-null  uint8  \n",
      " 12  Purpose.of.flight_Business                   49498 non-null  uint8  \n",
      " 13  Purpose.of.flight_Executive/corporate        49498 non-null  uint8  \n",
      " 14  Purpose.of.flight_External Load              49498 non-null  uint8  \n",
      " 15  Purpose.of.flight_Ferry                      49498 non-null  uint8  \n",
      " 16  Purpose.of.flight_Flight Test                49498 non-null  uint8  \n",
      " 17  Purpose.of.flight_Glider Tow                 49498 non-null  uint8  \n",
      " 18  Purpose.of.flight_Instructional              49498 non-null  uint8  \n",
      " 19  Purpose.of.flight_Other Work Use             49498 non-null  uint8  \n",
      " 20  Purpose.of.flight_Personal                   49498 non-null  uint8  \n",
      " 21  Purpose.of.flight_Positioning                49498 non-null  uint8  \n",
      " 22  Purpose.of.flight_Public Aircraft            49498 non-null  uint8  \n",
      " 23  Purpose.of.flight_Public Aircraft - Federal  49498 non-null  uint8  \n",
      " 24  Purpose.of.flight_Public Aircraft - Local    49498 non-null  uint8  \n",
      " 25  Purpose.of.flight_Public Aircraft - State    49498 non-null  uint8  \n",
      " 26  Purpose.of.flight_Skydiving                  49498 non-null  uint8  \n",
      " 27  Purpose.of.flight_Unknown                    49498 non-null  uint8  \n",
      " 28  Weather.Condition_IMC                        49498 non-null  uint8  \n",
      " 29  Weather.Condition_Unknown                    49498 non-null  uint8  \n",
      " 30  Weather.Condition_VMC                        49498 non-null  uint8  \n",
      " 31  Broad.phase.of.flight_Approach               49498 non-null  uint8  \n",
      " 32  Broad.phase.of.flight_Climb                  49498 non-null  uint8  \n",
      " 33  Broad.phase.of.flight_Cruise                 49498 non-null  uint8  \n",
      " 34  Broad.phase.of.flight_Descent                49498 non-null  uint8  \n",
      " 35  Broad.phase.of.flight_Go-around              49498 non-null  uint8  \n",
      " 36  Broad.phase.of.flight_Landing                49498 non-null  uint8  \n",
      " 37  Broad.phase.of.flight_Maneuvering            49498 non-null  uint8  \n",
      " 38  Broad.phase.of.flight_Other                  49498 non-null  uint8  \n",
      " 39  Broad.phase.of.flight_Standing               49498 non-null  uint8  \n",
      " 40  Broad.phase.of.flight_Takeoff                49498 non-null  uint8  \n",
      " 41  Broad.phase.of.flight_Taxi                   49498 non-null  uint8  \n",
      " 42  Broad.phase.of.flight_Unknown                49498 non-null  uint8  \n",
      " 43  Month_April                                  49498 non-null  uint8  \n",
      " 44  Month_August                                 49498 non-null  uint8  \n",
      " 45  Month_December                               49498 non-null  uint8  \n",
      " 46  Month_February                               49498 non-null  uint8  \n",
      " 47  Month_January                                49498 non-null  uint8  \n",
      " 48  Month_July                                   49498 non-null  uint8  \n",
      " 49  Month_June                                   49498 non-null  uint8  \n",
      " 50  Month_March                                  49498 non-null  uint8  \n",
      " 51  Month_May                                    49498 non-null  uint8  \n",
      " 52  Month_November                               49498 non-null  uint8  \n",
      " 53  Month_October                                49498 non-null  uint8  \n",
      " 54  Month_September                              49498 non-null  uint8  \n",
      "dtypes: float64(1), uint8(54)\n",
      "memory usage: 2.9 MB\n"
     ]
    }
   ],
   "source": [
    "df_X_get_dummies.info()"
   ]
  },
  {
   "cell_type": "code",
   "execution_count": 23,
   "metadata": {},
   "outputs": [],
   "source": [
    "from sklearn.preprocessing import StandardScaler"
   ]
  },
  {
   "cell_type": "code",
   "execution_count": 24,
   "metadata": {},
   "outputs": [],
   "source": [
    "# Utworzenie obiektu klasy StandardScaler \n",
    "#scaler = StandardScaler()"
   ]
  },
  {
   "cell_type": "code",
   "execution_count": 25,
   "metadata": {},
   "outputs": [],
   "source": [
    "#scaler.fit(X_train)"
   ]
  },
  {
   "cell_type": "code",
   "execution_count": 26,
   "metadata": {},
   "outputs": [],
   "source": [
    "#[scaler.mean_, scaler.var_]"
   ]
  },
  {
   "cell_type": "code",
   "execution_count": 39,
   "metadata": {},
   "outputs": [],
   "source": [
    "import xgboost\n",
    "from sklearn.metrics import confusion_matrix, ConfusionMatrixDisplay\n",
    "from sklearn.tree import plot_tree\n"
   ]
  },
  {
   "cell_type": "code",
   "execution_count": 60,
   "metadata": {},
   "outputs": [],
   "source": [
    "from xgboost import XGBClassifier\n",
    "import xgboost as xgb\n",
    "import matplotlib.pyplot as plot"
   ]
  },
  {
   "cell_type": "code",
   "execution_count": 61,
   "metadata": {},
   "outputs": [],
   "source": [
    "#xgb_reg.fit(X_train, y_train)"
   ]
  },
  {
   "cell_type": "code",
   "execution_count": 62,
   "metadata": {},
   "outputs": [],
   "source": [
    "#y_pred = xgb_reg.predict(X_test)"
   ]
  },
  {
   "cell_type": "code",
   "execution_count": 63,
   "metadata": {},
   "outputs": [],
   "source": [
    "X_train, X_test, y_train, y_test = train_test_split(df_X_get_dummies, df_X_get_dummies['Number.of.Engines'], test_size=0.3,random_state=123)"
   ]
  },
  {
   "cell_type": "code",
   "execution_count": 98,
   "metadata": {},
   "outputs": [],
   "source": [
    "xgb_clf = XGBClassifier(max_depth=2, learning_rate=0.1, n_estimators=100)"
   ]
  },
  {
   "cell_type": "code",
   "execution_count": 99,
   "metadata": {},
   "outputs": [
    {
     "name": "stdout",
     "output_type": "stream",
     "text": [
      "(34648, 55)\n",
      "(14850, 55)\n",
      "(34648,)\n",
      "(14850,)\n"
     ]
    }
   ],
   "source": [
    "print(X_train.shape)\n",
    "print(X_test.shape)\n",
    "print(y_train.shape)\n",
    "print(y_test.shape)"
   ]
  },
  {
   "cell_type": "code",
   "execution_count": 100,
   "metadata": {},
   "outputs": [
    {
     "data": {
      "text/plain": [
       "XGBClassifier(base_score=None, booster=None, callbacks=None,\n",
       "              colsample_bylevel=None, colsample_bynode=None,\n",
       "              colsample_bytree=None, early_stopping_rounds=None,\n",
       "              enable_categorical=False, eval_metric=None, feature_types=None,\n",
       "              gamma=None, gpu_id=None, grow_policy=None, importance_type=None,\n",
       "              interaction_constraints=None, learning_rate=0.1, max_bin=None,\n",
       "              max_cat_threshold=None, max_cat_to_onehot=None,\n",
       "              max_delta_step=None, max_depth=2, max_leaves=None,\n",
       "              min_child_weight=None, missing=nan, monotone_constraints=None,\n",
       "              n_estimators=100, n_jobs=None, num_parallel_tree=None,\n",
       "              objective='multi:softprob', predictor=None, ...)"
      ]
     },
     "execution_count": 100,
     "metadata": {},
     "output_type": "execute_result"
    }
   ],
   "source": [
    "xgb_clf.fit(X_train, y_train)"
   ]
  },
  {
   "cell_type": "code",
   "execution_count": 101,
   "metadata": {},
   "outputs": [],
   "source": [
    "y_predict = xgb_clf.predict(X_test)"
   ]
  },
  {
   "cell_type": "code",
   "execution_count": 103,
   "metadata": {},
   "outputs": [],
   "source": [
    "from sklearn.metrics import classification_report, confusion_matrix, accuracy_score"
   ]
  },
  {
   "cell_type": "code",
   "execution_count": 104,
   "metadata": {},
   "outputs": [],
   "source": [
    "pred_train = xgb_clf.predict(X_train)\n",
    "pred_test = xgb_clf.predict(X_test)"
   ]
  },
  {
   "cell_type": "code",
   "execution_count": 105,
   "metadata": {},
   "outputs": [
    {
     "data": {
      "text/plain": [
       "array([[  142,     0,     0,     0,     0],\n",
       "       [    0, 12740,     0,     0,     0],\n",
       "       [    0,     0,  1837,     0,     0],\n",
       "       [    0,     0,     0,    62,     0],\n",
       "       [    0,     0,     0,     0,    69]], dtype=int64)"
      ]
     },
     "execution_count": 105,
     "metadata": {},
     "output_type": "execute_result"
    }
   ],
   "source": [
    "confusion_matrix(y_test, y_predict)"
   ]
  },
  {
   "cell_type": "code",
   "execution_count": 106,
   "metadata": {},
   "outputs": [
    {
     "data": {
      "text/plain": [
       "array([[  320,     0,     0,     0,     0],\n",
       "       [    0, 29809,     0,     0,     0],\n",
       "       [    0,     0,  4215,     0,     0],\n",
       "       [    0,     0,     0,   177,     0],\n",
       "       [    0,     0,     0,     0,   127]], dtype=int64)"
      ]
     },
     "execution_count": 106,
     "metadata": {},
     "output_type": "execute_result"
    }
   ],
   "source": [
    "confusion_matrix(y_train,pred_train)"
   ]
  },
  {
   "cell_type": "code",
   "execution_count": 107,
   "metadata": {},
   "outputs": [
    {
     "name": "stdout",
     "output_type": "stream",
     "text": [
      "              precision    recall  f1-score   support\n",
      "\n",
      "         0.0       1.00      1.00      1.00       320\n",
      "         1.0       1.00      1.00      1.00     29809\n",
      "         2.0       1.00      1.00      1.00      4215\n",
      "         3.0       1.00      1.00      1.00       177\n",
      "         4.0       1.00      1.00      1.00       127\n",
      "\n",
      "    accuracy                           1.00     34648\n",
      "   macro avg       1.00      1.00      1.00     34648\n",
      "weighted avg       1.00      1.00      1.00     34648\n",
      "\n"
     ]
    }
   ],
   "source": [
    "print(classification_report(y_train,pred_train))"
   ]
  },
  {
   "cell_type": "code",
   "execution_count": 108,
   "metadata": {},
   "outputs": [
    {
     "name": "stdout",
     "output_type": "stream",
     "text": [
      "              precision    recall  f1-score   support\n",
      "\n",
      "         0.0       1.00      1.00      1.00       142\n",
      "         1.0       1.00      1.00      1.00     12740\n",
      "         2.0       1.00      1.00      1.00      1837\n",
      "         3.0       1.00      1.00      1.00        62\n",
      "         4.0       1.00      1.00      1.00        69\n",
      "\n",
      "    accuracy                           1.00     14850\n",
      "   macro avg       1.00      1.00      1.00     14850\n",
      "weighted avg       1.00      1.00      1.00     14850\n",
      "\n"
     ]
    }
   ],
   "source": [
    "print(classification_report(y_test,pred_test))"
   ]
  },
  {
   "cell_type": "code",
   "execution_count": null,
   "metadata": {},
   "outputs": [],
   "source": []
  },
  {
   "cell_type": "code",
   "execution_count": null,
   "metadata": {},
   "outputs": [],
   "source": []
  },
  {
   "cell_type": "code",
   "execution_count": null,
   "metadata": {},
   "outputs": [],
   "source": []
  },
  {
   "cell_type": "code",
   "execution_count": null,
   "metadata": {},
   "outputs": [],
   "source": []
  }
 ],
 "metadata": {
  "kernelspec": {
   "display_name": "Python 3 (ipykernel)",
   "language": "python",
   "name": "python3"
  },
  "language_info": {
   "codemirror_mode": {
    "name": "ipython",
    "version": 3
   },
   "file_extension": ".py",
   "mimetype": "text/x-python",
   "name": "python",
   "nbconvert_exporter": "python",
   "pygments_lexer": "ipython3",
   "version": "3.9.13"
  }
 },
 "nbformat": 4,
 "nbformat_minor": 2
}
